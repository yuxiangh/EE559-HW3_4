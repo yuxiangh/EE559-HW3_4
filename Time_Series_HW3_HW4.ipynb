{
 "cells": [
  {
   "cell_type": "markdown",
   "metadata": {},
   "source": [
    "# EE559 HW3 HW4 "
   ]
  },
  {
   "cell_type": "markdown",
   "metadata": {},
   "source": [
    "# Name: Yuxiang Hou                                  USCID:1126739072"
   ]
  },
  {
   "cell_type": "markdown",
   "metadata": {},
   "source": [
    "# \n",
    "An interesting task in machine learning is classification of time series. In this problem, we will classify the activities of humans based on time series obtained by a Wireless Sensor Network."
   ]
  },
  {
   "cell_type": "markdown",
   "metadata": {},
   "source": [
    "# \n",
    "(a) Download the AReM data from: https://archive.ics.uci.edu/ml/datasets/ Activity+Recognition+system+based+on+Multisensor+data+fusion+\\%28AReM\\ %29 . The dataset contains 7 folders that represent seven types of activities. In each folder, there are multiple files each of which represents an instant of a human performing an activity. Each file containis 6 time series collected from activities\n",
    "of the same person. There are 88 instances in the dataset, each of which contains 6 time series and each time series has 480 consecutive values."
   ]
  },
  {
   "cell_type": "markdown",
   "metadata": {},
   "source": [
    "(b) Keep datasets 1 and 2 in folders bending1 and bending 2, as well as datasets 1, 2, and 3 in other folders as test data and other datasets as train data."
   ]
  },
  {
   "cell_type": "code",
   "execution_count": 1,
   "metadata": {
    "collapsed": true
   },
   "outputs": [],
   "source": [
    "#in this step we will merge different datasets to train datasets and test datasets\n",
    "import pandas as pd\n",
    "import numpy as np "
   ]
  },
  {
   "cell_type": "code",
   "execution_count": 2,
   "metadata": {
    "collapsed": true
   },
   "outputs": [],
   "source": [
    "import os\n",
    "path = \"/Users/yuxianghou/Desktop/AReM\"\n",
    "files= os.listdir(path) #得到文件夹下的所有文件名称\n",
    "\n",
    "train_list=[]\n",
    "test_list=[]\n",
    "all_list=[]\n",
    "\n",
    "for file in files:\n",
    "    if file.startswith(\"ben\"):\n",
    "        bending_path=path+\"/\"+str(file)\n",
    "        bending_files=os.listdir(bending_path)\n",
    "        \n",
    "        for bending_file in bending_files:\n",
    "            current_path=bending_path+\"/\"+str(bending_file)\n",
    "            all_list.append(current_path)\n",
    "            \n",
    "            if bending_file.endswith(\"1.csv\") or bending_file.endswith(\"2.csv\"):\n",
    "                #then we will save the data\n",
    "                test_list.append(current_path)\n",
    "            else:\n",
    "                train_list.append(current_path)\n",
    "    \n",
    "    if file.endswith(\"ing\"):\n",
    "        data_path=path+\"/\"+str(file)\n",
    "        data_files=os.listdir(data_path)\n",
    "        for data_file in data_files:\n",
    "            current_path=data_path+\"/\"+str(bending_file)\n",
    "            all_list.append(current_path)\n",
    "            \n",
    "            if data_file==\"dataset1.csv\" or data_file==\"dataset2.csv\" or data_file==\"dataset3.csv\":\n",
    "                test_list.append(current_path)\n",
    "            else:\n",
    "                train_list.append(current_path)\n",
    "\n",
    "            \n",
    "            \n",
    "                \n",
    "                \n",
    "                \n",
    "                \n",
    "                \n",
    "        \n",
    "        \n",
    "        \n",
    "        \n",
    "        \n",
    "    "
   ]
  },
  {
   "cell_type": "code",
   "execution_count": 3,
   "metadata": {
    "collapsed": true
   },
   "outputs": [],
   "source": [
    "def get_data_list(alist):\n",
    "    data_list=[]\n",
    "    for path in alist:\n",
    "        data=pd.read_csv(path,header=4)\n",
    "        data_list.append(data)\n",
    "    return data_list\n",
    "        "
   ]
  },
  {
   "cell_type": "code",
   "execution_count": 4,
   "metadata": {
    "collapsed": true
   },
   "outputs": [],
   "source": [
    "train_data_list=get_data_list(train_list)\n",
    "test_data_list=get_data_list(test_list)"
   ]
  },
  {
   "cell_type": "code",
   "execution_count": 5,
   "metadata": {
    "collapsed": true
   },
   "outputs": [],
   "source": [
    "train_data=pd.concat(train_data_list)\n",
    "test_data=pd.concat(test_data_list)"
   ]
  },
  {
   "cell_type": "code",
   "execution_count": 6,
   "metadata": {},
   "outputs": [
    {
     "data": {
      "text/html": [
       "<div>\n",
       "<style scoped>\n",
       "    .dataframe tbody tr th:only-of-type {\n",
       "        vertical-align: middle;\n",
       "    }\n",
       "\n",
       "    .dataframe tbody tr th {\n",
       "        vertical-align: top;\n",
       "    }\n",
       "\n",
       "    .dataframe thead th {\n",
       "        text-align: right;\n",
       "    }\n",
       "</style>\n",
       "<table border=\"1\" class=\"dataframe\">\n",
       "  <thead>\n",
       "    <tr style=\"text-align: right;\">\n",
       "      <th></th>\n",
       "      <th># Columns: time</th>\n",
       "      <th>avg_rss12</th>\n",
       "      <th>var_rss12</th>\n",
       "      <th>avg_rss13</th>\n",
       "      <th>var_rss13</th>\n",
       "      <th>avg_rss23</th>\n",
       "      <th>var_rss23</th>\n",
       "    </tr>\n",
       "  </thead>\n",
       "  <tbody>\n",
       "    <tr>\n",
       "      <th>0</th>\n",
       "      <td>0</td>\n",
       "      <td>42.00</td>\n",
       "      <td>0.71</td>\n",
       "      <td>21.25</td>\n",
       "      <td>0.43</td>\n",
       "      <td>30.00</td>\n",
       "      <td>0.00</td>\n",
       "    </tr>\n",
       "    <tr>\n",
       "      <th>1</th>\n",
       "      <td>250</td>\n",
       "      <td>41.50</td>\n",
       "      <td>0.50</td>\n",
       "      <td>20.25</td>\n",
       "      <td>1.48</td>\n",
       "      <td>31.25</td>\n",
       "      <td>1.09</td>\n",
       "    </tr>\n",
       "    <tr>\n",
       "      <th>2</th>\n",
       "      <td>500</td>\n",
       "      <td>41.50</td>\n",
       "      <td>0.50</td>\n",
       "      <td>14.25</td>\n",
       "      <td>1.92</td>\n",
       "      <td>33.00</td>\n",
       "      <td>0.00</td>\n",
       "    </tr>\n",
       "    <tr>\n",
       "      <th>3</th>\n",
       "      <td>750</td>\n",
       "      <td>40.75</td>\n",
       "      <td>0.83</td>\n",
       "      <td>15.75</td>\n",
       "      <td>0.43</td>\n",
       "      <td>33.00</td>\n",
       "      <td>0.00</td>\n",
       "    </tr>\n",
       "    <tr>\n",
       "      <th>4</th>\n",
       "      <td>1000</td>\n",
       "      <td>40.00</td>\n",
       "      <td>0.71</td>\n",
       "      <td>20.00</td>\n",
       "      <td>2.74</td>\n",
       "      <td>32.75</td>\n",
       "      <td>0.43</td>\n",
       "    </tr>\n",
       "  </tbody>\n",
       "</table>\n",
       "</div>"
      ],
      "text/plain": [
       "   # Columns: time  avg_rss12  var_rss12  avg_rss13  var_rss13  avg_rss23  \\\n",
       "0                0      42.00       0.71      21.25       0.43      30.00   \n",
       "1              250      41.50       0.50      20.25       1.48      31.25   \n",
       "2              500      41.50       0.50      14.25       1.92      33.00   \n",
       "3              750      40.75       0.83      15.75       0.43      33.00   \n",
       "4             1000      40.00       0.71      20.00       2.74      32.75   \n",
       "\n",
       "   var_rss23  \n",
       "0       0.00  \n",
       "1       1.09  \n",
       "2       0.00  \n",
       "3       0.00  \n",
       "4       0.43  "
      ]
     },
     "execution_count": 6,
     "metadata": {},
     "output_type": "execute_result"
    }
   ],
   "source": [
    "train_data.head()"
   ]
  },
  {
   "cell_type": "code",
   "execution_count": 7,
   "metadata": {},
   "outputs": [
    {
     "data": {
      "text/html": [
       "<div>\n",
       "<style scoped>\n",
       "    .dataframe tbody tr th:only-of-type {\n",
       "        vertical-align: middle;\n",
       "    }\n",
       "\n",
       "    .dataframe tbody tr th {\n",
       "        vertical-align: top;\n",
       "    }\n",
       "\n",
       "    .dataframe thead th {\n",
       "        text-align: right;\n",
       "    }\n",
       "</style>\n",
       "<table border=\"1\" class=\"dataframe\">\n",
       "  <thead>\n",
       "    <tr style=\"text-align: right;\">\n",
       "      <th></th>\n",
       "      <th># Columns: time</th>\n",
       "      <th>avg_rss12</th>\n",
       "      <th>var_rss12</th>\n",
       "      <th>avg_rss13</th>\n",
       "      <th>var_rss13</th>\n",
       "      <th>avg_rss23</th>\n",
       "      <th>var_rss23</th>\n",
       "    </tr>\n",
       "  </thead>\n",
       "  <tbody>\n",
       "    <tr>\n",
       "      <th>0</th>\n",
       "      <td>0</td>\n",
       "      <td>39.25</td>\n",
       "      <td>0.43</td>\n",
       "      <td>22.75</td>\n",
       "      <td>0.43</td>\n",
       "      <td>33.75</td>\n",
       "      <td>1.3</td>\n",
       "    </tr>\n",
       "    <tr>\n",
       "      <th>1</th>\n",
       "      <td>250</td>\n",
       "      <td>39.25</td>\n",
       "      <td>0.43</td>\n",
       "      <td>23.00</td>\n",
       "      <td>0.00</td>\n",
       "      <td>33.00</td>\n",
       "      <td>0.0</td>\n",
       "    </tr>\n",
       "    <tr>\n",
       "      <th>2</th>\n",
       "      <td>500</td>\n",
       "      <td>39.25</td>\n",
       "      <td>0.43</td>\n",
       "      <td>23.25</td>\n",
       "      <td>0.43</td>\n",
       "      <td>33.00</td>\n",
       "      <td>0.0</td>\n",
       "    </tr>\n",
       "    <tr>\n",
       "      <th>3</th>\n",
       "      <td>750</td>\n",
       "      <td>39.50</td>\n",
       "      <td>0.50</td>\n",
       "      <td>23.00</td>\n",
       "      <td>0.71</td>\n",
       "      <td>33.00</td>\n",
       "      <td>0.0</td>\n",
       "    </tr>\n",
       "    <tr>\n",
       "      <th>4</th>\n",
       "      <td>1000</td>\n",
       "      <td>39.50</td>\n",
       "      <td>0.50</td>\n",
       "      <td>24.00</td>\n",
       "      <td>0.00</td>\n",
       "      <td>33.00</td>\n",
       "      <td>0.0</td>\n",
       "    </tr>\n",
       "  </tbody>\n",
       "</table>\n",
       "</div>"
      ],
      "text/plain": [
       "   # Columns: time  avg_rss12  var_rss12  avg_rss13  var_rss13  avg_rss23  \\\n",
       "0                0      39.25       0.43      22.75       0.43      33.75   \n",
       "1              250      39.25       0.43      23.00       0.00      33.00   \n",
       "2              500      39.25       0.43      23.25       0.43      33.00   \n",
       "3              750      39.50       0.50      23.00       0.71      33.00   \n",
       "4             1000      39.50       0.50      24.00       0.00      33.00   \n",
       "\n",
       "   var_rss23  \n",
       "0        1.3  \n",
       "1        0.0  \n",
       "2        0.0  \n",
       "3        0.0  \n",
       "4        0.0  "
      ]
     },
     "execution_count": 7,
     "metadata": {},
     "output_type": "execute_result"
    }
   ],
   "source": [
    "test_data.head()"
   ]
  },
  {
   "cell_type": "markdown",
   "metadata": {},
   "source": [
    "# (c) Feature Extraction\n",
    "Classification of time series usually needs extracting features from them. In this problem, we focus on time-domain features.\n",
    "i. Research what types of time-domain features are usually used in time series classification and list them (examples are minimum, maximum, mean, etc)."
   ]
  },
  {
   "cell_type": "markdown",
   "metadata": {},
   "source": [
    "My Answer:Mean,max,min, variance, first quartile and third quartile are always useful for the analysis of time series"
   ]
  },
  {
   "cell_type": "markdown",
   "metadata": {},
   "source": [
    "#Extract the time-domain features minimum, maximum, mean, median, stan- dard deviation, first quartile, and third quartile for all of the 6 time series in each instance. You are free to normalize/standardize features or use them directly.2"
   ]
  },
  {
   "cell_type": "code",
   "execution_count": 8,
   "metadata": {
    "collapsed": true
   },
   "outputs": [],
   "source": [
    "all_data_list=get_data_list(all_list) #then we have all data_list result"
   ]
  },
  {
   "cell_type": "code",
   "execution_count": 9,
   "metadata": {
    "collapsed": true
   },
   "outputs": [],
   "source": [
    "#this is the statistical result\n",
    "\n",
    "def get_Statistical_result(alist):\n",
    "    min_=np.min(alist)\n",
    "    max_=np.max(alist)\n",
    "    mean_=np.mean(alist)\n",
    "    median_=np.median(alist)\n",
    "    std_=np.std(alist)\n",
    "    \n",
    "    first_quartile=np.percentile(alist,25)\n",
    "    third_quartile=np.percentile(alist,75)\n",
    "    \n",
    "    return [min_,max_,mean_,median_,std_,first_quartile,third_quartile]\n",
    "    \n",
    "    \n",
    "    "
   ]
  },
  {
   "cell_type": "code",
   "execution_count": 10,
   "metadata": {
    "collapsed": true
   },
   "outputs": [],
   "source": [
    "def get_DataMatrix(dataframe_list):\n",
    "    \n",
    "    all_result=[]\n",
    "    for dataframe in dataframe_list:\n",
    "        \n",
    "        #then the input is the dataframe right now, get the statistical result\n",
    "        avg_rss12_statis=get_Statistical_result(dataframe[\"avg_rss12\"])\n",
    "        var_rss12_statis=get_Statistical_result(dataframe[\"var_rss12\"])\n",
    "        avg_rss13_statis=get_Statistical_result(dataframe[\"avg_rss13\"])\n",
    "        var_rss13_statis=get_Statistical_result(dataframe[\"var_rss13\"])\n",
    "        avg_rss23_statis=get_Statistical_result(dataframe[\"avg_rss23\"])\n",
    "        var_rss23_statis=get_Statistical_result(dataframe[\"var_rss23\"])\n",
    "        \n",
    "        \n",
    "        one_result=avg_rss12_statis+var_rss12_statis+avg_rss13_statis+var_rss13_statis+avg_rss23_statis+var_rss23_statis\n",
    "        all_result.append(one_result)\n",
    "    return all_result\n",
    "            \n",
    "        \n",
    "        \n",
    "\n",
    "    \n",
    "        "
   ]
  },
  {
   "cell_type": "code",
   "execution_count": 11,
   "metadata": {
    "collapsed": true
   },
   "outputs": [],
   "source": [
    "matrix=get_DataMatrix(all_data_list)\n",
    "train_matrix=get_DataMatrix(train_data_list)\n",
    "test_matrix=get_DataMatrix(test_data_list)\n",
    "columns=[\"min1\",\"max1\",\"mean1\",\"median1\",\"std1\",\"1st quartile1\",\"3rd quartile1\",\n",
    "         \"min2\",\"max2\",\"mean2\",\"median2\",\"std2\",\"1st quartile2\",\"3rd quartile2\",\n",
    "         \"min3\",\"max3\",\"mean3\",\"median3\",\"std3\",\"1st quartile3\",\"3rd quartile3\",\n",
    "         \"min4\",\"max4\",\"mean4\",\"median4\",\"std4\",\"1st quartile4\",\"3rd quartile4\",\n",
    "         \"min5\",\"max5\",\"mean5\",\"median5\",\"std5\",\"1st quartile5\",\"3rd quartile5\",\n",
    "         \"min6\",\"max6\",\"mean6\",\"median6\",\"std6\",\"1st quartile6\",\"3rd quartile6\"]\n",
    "        \n",
    "Data=pd.DataFrame(matrix,columns=columns)\n",
    "train_data=pd.DataFrame(train_matrix,columns=columns)\n",
    "test_data=pd.DataFrame(test_matrix,columns=columns)\n"
   ]
  },
  {
   "cell_type": "code",
   "execution_count": 12,
   "metadata": {},
   "outputs": [
    {
     "data": {
      "text/plain": [
       "(69, 42)"
      ]
     },
     "execution_count": 12,
     "metadata": {},
     "output_type": "execute_result"
    }
   ],
   "source": [
    "train_data.shape"
   ]
  },
  {
   "cell_type": "code",
   "execution_count": 13,
   "metadata": {},
   "outputs": [
    {
     "data": {
      "text/plain": [
       "(19, 42)"
      ]
     },
     "execution_count": 13,
     "metadata": {},
     "output_type": "execute_result"
    }
   ],
   "source": [
    "test_data.shape"
   ]
  },
  {
   "cell_type": "markdown",
   "metadata": {},
   "source": [
    "# iii. Use your judgement to select the three most important time-domain features (one option may be min, mean, and max)."
   ]
  },
  {
   "cell_type": "markdown",
   "metadata": {},
   "source": [
    "According to the above dataframe,I think min,std, and median are the three most important features., because we can know almost surely the situation of one column distribution if we know std, mean, median and std \n"
   ]
  },
  {
   "cell_type": "markdown",
   "metadata": {},
   "source": [
    "# (d) Binary Classification Using Logistic Regression3"
   ]
  },
  {
   "cell_type": "markdown",
   "metadata": {},
   "source": [
    "i. Assume that you want to use the training set to classify bending from other\n",
    "activities, i.e. you have a binary classification problem. Depict scatter plots\n",
    "of the features you specified in 1(c)iii extracted from time series 1, 2, and 6 of each instance, and use color to distinguish bending vs. other activities. (See p. 129 of the textbook).4\n"
   ]
  },
  {
   "cell_type": "code",
   "execution_count": 14,
   "metadata": {
    "collapsed": true
   },
   "outputs": [],
   "source": [
    "#according to the above result, then we will pick the series 1 min ,std1,median1 features\n",
    "new_data=Data[[\"min1\",\"median1\",\"std1\",\"min2\",\"median2\",\"std2\",\"min6\",\"median6\",\"std6\"]]"
   ]
  },
  {
   "cell_type": "code",
   "execution_count": 15,
   "metadata": {},
   "outputs": [
    {
     "name": "stderr",
     "output_type": "stream",
     "text": [
      "/Library/Frameworks/Python.framework/Versions/3.6/lib/python3.6/site-packages/ipykernel_launcher.py:2: SettingWithCopyWarning: \n",
      "A value is trying to be set on a copy of a slice from a DataFrame.\n",
      "Try using .loc[row_indexer,col_indexer] = value instead\n",
      "\n",
      "See the caveats in the documentation: http://pandas.pydata.org/pandas-docs/stable/indexing.html#indexing-view-versus-copy\n",
      "  \n"
     ]
    }
   ],
   "source": [
    "label=[\"bending\"]*13+[\"others\"]*75\n",
    "new_data[\"Label\"]=label"
   ]
  },
  {
   "cell_type": "code",
   "execution_count": 16,
   "metadata": {
    "collapsed": true
   },
   "outputs": [],
   "source": [
    "import matplotlib.pylab as plt\n",
    "%matplotlib inline"
   ]
  },
  {
   "cell_type": "code",
   "execution_count": 17,
   "metadata": {},
   "outputs": [
    {
     "data": {
      "text/plain": [
       "<seaborn.axisgrid.PairGrid at 0x10a89dfd0>"
      ]
     },
     "execution_count": 17,
     "metadata": {},
     "output_type": "execute_result"
    },
    {
     "data": {
      "image/png": "[encoded data removed]",
      "text/plain": [
       "<matplotlib.figure.Figure at 0x10746e0b8>"
      ]
     },
     "metadata": {},
     "output_type": "display_data"
    }
   ],
   "source": [
    "import seaborn as sns\n",
    "sns.pairplot(new_data,hue=\"Label\")"
   ]
  },
  {
   "cell_type": "markdown",
   "metadata": {},
   "source": [
    "# ii. Break each time series in your training set into two (approximately) equal length time series. Now instead of 6 time series for each of the 88 instances, you have 12 time series for each instance. Repeat the experiment in 1(d)i. Do you see any considerable difference in the results with those of 1(d)i?\n"
   ]
  },
  {
   "cell_type": "code",
   "execution_count": 18,
   "metadata": {},
   "outputs": [
    {
     "name": "stderr",
     "output_type": "stream",
     "text": [
      "/Library/Frameworks/Python.framework/Versions/3.6/lib/python3.6/site-packages/ipykernel_launcher.py:18: SettingWithCopyWarning: \n",
      "A value is trying to be set on a copy of a slice from a DataFrame.\n",
      "Try using .loc[row_indexer,col_indexer] = value instead\n",
      "\n",
      "See the caveats in the documentation: http://pandas.pydata.org/pandas-docs/stable/indexing.html#indexing-view-versus-copy\n"
     ]
    }
   ],
   "source": [
    "def seperate_data():\n",
    "    new_all_list=[]\n",
    "    \n",
    "    for dataframe in all_data_list:\n",
    "        \n",
    "        first=dataframe[:240]\n",
    "        second=dataframe[240:]\n",
    "        new_all_list.append(first)\n",
    "        new_all_list.append(second)\n",
    "    return new_all_list\n",
    "\n",
    "double_dataframe_list=seperate_data()\n",
    "new_matrix=get_DataMatrix(double_dataframe_list)\n",
    "double_df=pd.DataFrame(new_matrix,columns=columns)\n",
    "new_double_df=double_df[[\"min1\",\"median1\",\"std1\",\"min2\",\"median2\",\"std2\",\"min6\",\"median6\",\"std6\"]]\n",
    "\n",
    "label=[\"bending\"]*26+[\"others\"]*150\n",
    "new_double_df[\"Label\"]=label\n",
    "\n"
   ]
  },
  {
   "cell_type": "code",
   "execution_count": 19,
   "metadata": {},
   "outputs": [
    {
     "data": {
      "text/plain": [
       "<seaborn.axisgrid.PairGrid at 0x10f909898>"
      ]
     },
     "execution_count": 19,
     "metadata": {},
     "output_type": "execute_result"
    },
    {
     "data": {
      "image/png": "[encoded data removed]",
      "text/plain": [
       "<matplotlib.figure.Figure at 0x10f96c550>"
      ]
     },
     "metadata": {},
     "output_type": "display_data"
    }
   ],
   "source": [
    "sns.pairplot(new_double_df,hue=\"Label\")"
   ]
  },
  {
   "cell_type": "markdown",
   "metadata": {},
   "source": [
    "we can find here there are more data points in each subplot, and some pattern seems become more clearn compared to the patten in (d)(i)"
   ]
  },
  {
   "cell_type": "markdown",
   "metadata": {},
   "source": [
    "# iii"
   ]
  },
  {
   "cell_type": "markdown",
   "metadata": {
    "collapsed": true
   },
   "source": [
    "#Break each time series in your training set into l ∈ {1, 2, . . . , 20} time series of approximately equal length and use logistic regression5 to solve the binary classification problem, using time-domain features. Calculate the p-values for your logistic regression parameters and refit a logistic regression model using your pruned set of features.6 Alternatively, you can use backward selection using sklearn.feature selection or glm in R. Use 5-fold cross-validation to de- termine the best value of l. Explain what the right way and the wrong way are to perform cross-validation in this problem.7 Obviously, use the right way! Also, you may encounter the problem of class imbalance, which may make some of your folds not having any instances of the rare class. In such a case, you can use stratified cross validation. Research what it means and use it if needed.\n",
    "In the following, you can see an example of applying Python’s Recursive Feature Elimination, which is a backward selection algorithm, to logistic re- gression."
   ]
  },
  {
   "cell_type": "raw",
   "metadata": {},
   "source": [
    "# Recursive Feature Elimination\n",
    "from sklearn import datasets\n",
    "from sklearn . feature selection import RFE\n",
    "from sklearn . linear model import LogisticRegression\n",
    "# load the iris datasets dataset = datasets . load iris ()\n",
    "# create a base classifier used to evaluate a subset of attributes model = LogisticRegression ()\n",
    "# create the RFE model and select 3 attributes rfe =RFE(model, 3)\n",
    "rfe = rfe.fit(dataset.data, dataset.target)\n",
    "# summarize the selection of the attributes print ( rfe . support   )"
   ]
  },
  {
   "cell_type": "code",
   "execution_count": 20,
   "metadata": {
    "collapsed": true
   },
   "outputs": [],
   "source": [
    "#break time series into k folder\n",
    "#the input is a list, then we will split the split into k part\n",
    "def get_list_split(alist,k):\n",
    "    split_len=len(alist)//k   #k=10, then every k has 48\n",
    "    \n",
    "    new_list=[]\n",
    "    for i in range(k):\n",
    "        split_small_list=alist[(split_len*i):(split_len*(i+1))]\n",
    "        if i==k-1:\n",
    "            split_small_list=alist[(split_len*(k-1)):]\n",
    "        new_list.append(split_small_list)\n",
    "    return new_list\n",
    "        \n",
    "        \n",
    "        \n",
    "        \n",
    "\n",
    "        "
   ]
  },
  {
   "cell_type": "code",
   "execution_count": 21,
   "metadata": {
    "collapsed": true
   },
   "outputs": [],
   "source": [
    "def get_train_datasets_labels():\n",
    "    new_list=[]\n",
    "    for i in range(len(train_data_list)):\n",
    "        if i<9:\n",
    "            train_data_list[i][\"Labels\"]=[\"Bedding\"]*480\n",
    "        else:\n",
    "            train_data_list[i][\"Labels\"]=[\"Others\"]*480\n",
    "        new_list.append(train_data_list[i])\n",
    "    return new_list\n",
    "\n",
    "new_train_data_list=get_train_datasets_labels()\n"
   ]
  },
  {
   "cell_type": "code",
   "execution_count": 22,
   "metadata": {},
   "outputs": [
    {
     "name": "stdout",
     "output_type": "stream",
     "text": [
      "     # Columns: time  avg_rss12  var_rss12  avg_rss13  var_rss13  avg_rss23  \\\n",
      "0                  0      42.00       0.71      21.25       0.43      30.00   \n",
      "1                250      41.50       0.50      20.25       1.48      31.25   \n",
      "2                500      41.50       0.50      14.25       1.92      33.00   \n",
      "3                750      40.75       0.83      15.75       0.43      33.00   \n",
      "4               1000      40.00       0.71      20.00       2.74      32.75   \n",
      "5               1250      41.25       0.83      24.25       0.43      31.50   \n",
      "6               1500      42.25       0.43      23.75       0.43      35.25   \n",
      "7               1750      43.50       0.87      21.00       0.00      36.00   \n",
      "8               2000      42.75       0.83      21.25       0.43      36.00   \n",
      "9               2250      43.25       0.43      23.75       0.43      36.00   \n",
      "10              2500      43.25       0.83      24.50       0.50      36.00   \n",
      "11              2750      43.75       0.43      24.25       0.43      36.00   \n",
      "12              3000      44.33       0.47      24.00       0.00      36.00   \n",
      "13              3250      44.50       0.50      24.00       0.00      36.00   \n",
      "14              3500      44.75       0.43      24.00       0.00      36.00   \n",
      "15              3750      45.00       0.00      24.00       0.00      36.25   \n",
      "16              4000      45.00       0.00      23.75       0.43      36.00   \n",
      "17              4250      45.00       0.00      23.25       1.30      36.00   \n",
      "18              4500      45.00       0.00      24.00       0.00      36.50   \n",
      "19              4750      45.00       0.00      21.50       1.50      37.00   \n",
      "20              5000      45.00       0.00      19.50       1.12      37.50   \n",
      "21              5250      45.00       0.00      21.00       0.00      37.00   \n",
      "22              5500      45.00       0.00      22.75       0.83      36.50   \n",
      "23              5750      45.00       0.00      24.00       0.00      36.25   \n",
      "24              6000      45.00       0.00      23.25       0.83      36.75   \n",
      "25              6250      45.00       0.00      23.75       0.43      37.00   \n",
      "26              6500      45.00       0.00      23.50       0.50      37.00   \n",
      "27              6750      45.00       0.00      23.67       0.47      36.00   \n",
      "28              7000      45.00       0.00      24.00       0.00      36.33   \n",
      "29              7250      45.00       0.00      24.00       0.00      36.25   \n",
      "..               ...        ...        ...        ...        ...        ...   \n",
      "450           112500      43.33       0.47      18.00       0.00      36.00   \n",
      "451           112750      43.50       0.50      18.00       0.00      36.00   \n",
      "452           113000      43.50       0.50      19.00       0.71      36.50   \n",
      "453           113250      43.50       0.50      19.00       0.00      36.25   \n",
      "454           113500      43.50       0.50      18.75       0.43      36.00   \n",
      "455           113750      43.25       0.83      18.00       0.00      36.00   \n",
      "456           114000      43.25       0.83      18.50       0.50      36.00   \n",
      "457           114250      43.50       0.50      18.50       0.50      36.00   \n",
      "458           114500      43.25       0.83      19.50       0.50      35.50   \n",
      "459           114750      43.00       0.71      19.75       0.43      36.00   \n",
      "460           115000      42.67       0.47      18.25       0.43      36.00   \n",
      "461           115250      43.00       0.00      20.25       0.43      36.00   \n",
      "462           115500      43.00       0.71      20.25       0.43      36.25   \n",
      "463           115750      43.50       0.50      19.33       0.47      36.00   \n",
      "464           116000      43.25       0.83      18.50       0.50      36.00   \n",
      "465           116250      43.00       0.00      18.00       0.00      36.00   \n",
      "466           116500      43.00       1.00      18.25       0.43      36.00   \n",
      "467           116750      43.00       0.71      19.00       0.00      36.00   \n",
      "468           117000      43.00       0.71      19.50       0.50      36.00   \n",
      "469           117250      43.00       0.71      18.25       0.43      36.00   \n",
      "470           117500      43.50       0.50      19.50       0.50      36.00   \n",
      "471           117750      43.50       0.50      19.75       0.43      36.00   \n",
      "472           118000      43.00       0.82      18.33       0.47      36.25   \n",
      "473           118250      43.25       0.83      18.75       0.43      36.00   \n",
      "474           118500      42.75       0.83      18.00       0.00      36.25   \n",
      "475           118750      42.50       0.50      20.00       0.82      36.00   \n",
      "476           119000      42.67       0.47      21.00       0.00      36.33   \n",
      "477           119250      44.33       0.94      21.00       0.00      36.33   \n",
      "478           119500      45.25       0.43      26.75       1.79      36.00   \n",
      "479           119750      47.25       0.83      29.75       0.43      35.25   \n",
      "\n",
      "     var_rss23   Labels  \n",
      "0         0.00  Bedding  \n",
      "1         1.09  Bedding  \n",
      "2         0.00  Bedding  \n",
      "3         0.00  Bedding  \n",
      "4         0.43  Bedding  \n",
      "5         0.87  Bedding  \n",
      "6         1.30  Bedding  \n",
      "7         0.00  Bedding  \n",
      "8         0.00  Bedding  \n",
      "9         0.00  Bedding  \n",
      "10        0.00  Bedding  \n",
      "11        0.00  Bedding  \n",
      "12        0.00  Bedding  \n",
      "13        0.00  Bedding  \n",
      "14        0.00  Bedding  \n",
      "15        0.43  Bedding  \n",
      "16        0.00  Bedding  \n",
      "17        0.00  Bedding  \n",
      "18        0.50  Bedding  \n",
      "19        1.00  Bedding  \n",
      "20        1.50  Bedding  \n",
      "21        1.00  Bedding  \n",
      "22        0.50  Bedding  \n",
      "23        0.43  Bedding  \n",
      "24        0.83  Bedding  \n",
      "25        1.00  Bedding  \n",
      "26        1.00  Bedding  \n",
      "27        0.00  Bedding  \n",
      "28        0.47  Bedding  \n",
      "29        0.43  Bedding  \n",
      "..         ...      ...  \n",
      "450       0.00  Bedding  \n",
      "451       0.00  Bedding  \n",
      "452       0.50  Bedding  \n",
      "453       0.43  Bedding  \n",
      "454       0.00  Bedding  \n",
      "455       0.00  Bedding  \n",
      "456       0.00  Bedding  \n",
      "457       0.00  Bedding  \n",
      "458       0.87  Bedding  \n",
      "459       0.00  Bedding  \n",
      "460       0.00  Bedding  \n",
      "461       0.00  Bedding  \n",
      "462       0.43  Bedding  \n",
      "463       0.00  Bedding  \n",
      "464       0.00  Bedding  \n",
      "465       0.00  Bedding  \n",
      "466       0.00  Bedding  \n",
      "467       0.00  Bedding  \n",
      "468       0.00  Bedding  \n",
      "469       0.00  Bedding  \n",
      "470       0.00  Bedding  \n",
      "471       0.00  Bedding  \n",
      "472       0.43  Bedding  \n",
      "473       0.00  Bedding  \n",
      "474       0.43  Bedding  \n",
      "475       0.00  Bedding  \n",
      "476       0.47  Bedding  \n",
      "477       0.47  Bedding  \n",
      "478       0.00  Bedding  \n",
      "479       1.30  Bedding  \n",
      "\n",
      "[480 rows x 8 columns]\n"
     ]
    }
   ],
   "source": [
    "print(new_train_data_list[0])"
   ]
  },
  {
   "cell_type": "code",
   "execution_count": 23,
   "metadata": {
    "collapsed": true
   },
   "outputs": [],
   "source": [
    "def get_K_Times_Train_Datasets(k):\n",
    "    all_list=[]\n",
    "    for train_data in new_train_data_list:\n",
    "        alist=[x for x in range(480)]\n",
    "        list_split=get_list_split(alist,k)\n",
    "        \n",
    "        for i in range(len(list_split)):\n",
    "            new_train_data=train_data.loc[list_split[i],:]\n",
    "            all_list.append(new_train_data)\n",
    "    return all_list\n",
    "#then we have to consider original datasets bedding situation"
   ]
  },
  {
   "cell_type": "code",
   "execution_count": 26,
   "metadata": {
    "collapsed": true
   },
   "outputs": [],
   "source": [
    "#data preparation,from the above graph, we can find that K=2 is the best model\n",
    "two_times_list=get_K_Times_Train_Datasets(2)\n",
    "matrix=get_DataMatrix(two_times_list)\n",
    "df=pd.DataFrame(matrix,columns=columns)\n",
    "df[\"Labels\"]=[0]*(9*2)+[1]*(len(two_times_list)-(9*2))\n",
    "X_train=df.drop(\"Labels\",axis=1)\n",
    "Y_train=df[\"Labels\"]\n",
    "min_max_scaler = preprocessing.MinMaxScaler()\n",
    "X_train_normalized=min_max_scaler.fit_transform(X_train)\n"
   ]
  },
  {
   "cell_type": "code",
   "execution_count": 27,
   "metadata": {},
   "outputs": [
    {
     "data": {
      "text/html": [
       "<div>\n",
       "<style scoped>\n",
       "    .dataframe tbody tr th:only-of-type {\n",
       "        vertical-align: middle;\n",
       "    }\n",
       "\n",
       "    .dataframe tbody tr th {\n",
       "        vertical-align: top;\n",
       "    }\n",
       "\n",
       "    .dataframe thead th {\n",
       "        text-align: right;\n",
       "    }\n",
       "</style>\n",
       "<table border=\"1\" class=\"dataframe\">\n",
       "  <thead>\n",
       "    <tr style=\"text-align: right;\">\n",
       "      <th></th>\n",
       "      <th>min1</th>\n",
       "      <th>max1</th>\n",
       "      <th>mean1</th>\n",
       "      <th>median1</th>\n",
       "      <th>std1</th>\n",
       "      <th>1st quartile1</th>\n",
       "      <th>3rd quartile1</th>\n",
       "      <th>min2</th>\n",
       "      <th>max2</th>\n",
       "      <th>mean2</th>\n",
       "      <th>...</th>\n",
       "      <th>1st quartile5</th>\n",
       "      <th>3rd quartile5</th>\n",
       "      <th>min6</th>\n",
       "      <th>max6</th>\n",
       "      <th>mean6</th>\n",
       "      <th>median6</th>\n",
       "      <th>std6</th>\n",
       "      <th>1st quartile6</th>\n",
       "      <th>3rd quartile6</th>\n",
       "      <th>Labels</th>\n",
       "    </tr>\n",
       "  </thead>\n",
       "  <tbody>\n",
       "    <tr>\n",
       "      <th>0</th>\n",
       "      <td>36.50</td>\n",
       "      <td>46.50</td>\n",
       "      <td>44.057167</td>\n",
       "      <td>44.50</td>\n",
       "      <td>1.553724</td>\n",
       "      <td>43.2500</td>\n",
       "      <td>45.00</td>\n",
       "      <td>0.0</td>\n",
       "      <td>1.50</td>\n",
       "      <td>0.381042</td>\n",
       "      <td>...</td>\n",
       "      <td>36.00</td>\n",
       "      <td>37.00</td>\n",
       "      <td>0.0</td>\n",
       "      <td>1.79</td>\n",
       "      <td>0.598250</td>\n",
       "      <td>0.500</td>\n",
       "      <td>0.525558</td>\n",
       "      <td>0.0</td>\n",
       "      <td>1.00</td>\n",
       "      <td>0</td>\n",
       "    </tr>\n",
       "    <tr>\n",
       "      <th>1</th>\n",
       "      <td>35.00</td>\n",
       "      <td>47.40</td>\n",
       "      <td>43.851833</td>\n",
       "      <td>43.50</td>\n",
       "      <td>1.553920</td>\n",
       "      <td>43.0000</td>\n",
       "      <td>45.00</td>\n",
       "      <td>0.0</td>\n",
       "      <td>1.70</td>\n",
       "      <td>0.471458</td>\n",
       "      <td>...</td>\n",
       "      <td>33.00</td>\n",
       "      <td>36.25</td>\n",
       "      <td>0.0</td>\n",
       "      <td>1.50</td>\n",
       "      <td>0.388333</td>\n",
       "      <td>0.000</td>\n",
       "      <td>0.477530</td>\n",
       "      <td>0.0</td>\n",
       "      <td>0.71</td>\n",
       "      <td>0</td>\n",
       "    </tr>\n",
       "    <tr>\n",
       "      <th>2</th>\n",
       "      <td>33.75</td>\n",
       "      <td>47.75</td>\n",
       "      <td>43.278875</td>\n",
       "      <td>45.00</td>\n",
       "      <td>3.466111</td>\n",
       "      <td>42.0000</td>\n",
       "      <td>45.25</td>\n",
       "      <td>0.0</td>\n",
       "      <td>3.00</td>\n",
       "      <td>0.673292</td>\n",
       "      <td>...</td>\n",
       "      <td>36.00</td>\n",
       "      <td>37.00</td>\n",
       "      <td>0.0</td>\n",
       "      <td>1.53</td>\n",
       "      <td>0.640958</td>\n",
       "      <td>0.765</td>\n",
       "      <td>0.553385</td>\n",
       "      <td>0.0</td>\n",
       "      <td>1.22</td>\n",
       "      <td>0</td>\n",
       "    </tr>\n",
       "    <tr>\n",
       "      <th>3</th>\n",
       "      <td>33.00</td>\n",
       "      <td>46.00</td>\n",
       "      <td>41.080750</td>\n",
       "      <td>42.00</td>\n",
       "      <td>3.530103</td>\n",
       "      <td>37.7500</td>\n",
       "      <td>44.50</td>\n",
       "      <td>0.0</td>\n",
       "      <td>2.86</td>\n",
       "      <td>0.718792</td>\n",
       "      <td>...</td>\n",
       "      <td>28.75</td>\n",
       "      <td>33.75</td>\n",
       "      <td>0.0</td>\n",
       "      <td>2.18</td>\n",
       "      <td>0.586083</td>\n",
       "      <td>0.470</td>\n",
       "      <td>0.490847</td>\n",
       "      <td>0.0</td>\n",
       "      <td>0.87</td>\n",
       "      <td>0</td>\n",
       "    </tr>\n",
       "    <tr>\n",
       "      <th>4</th>\n",
       "      <td>33.00</td>\n",
       "      <td>45.75</td>\n",
       "      <td>41.621208</td>\n",
       "      <td>42.33</td>\n",
       "      <td>3.112140</td>\n",
       "      <td>39.6525</td>\n",
       "      <td>44.25</td>\n",
       "      <td>0.0</td>\n",
       "      <td>2.83</td>\n",
       "      <td>0.623083</td>\n",
       "      <td>...</td>\n",
       "      <td>28.50</td>\n",
       "      <td>31.50</td>\n",
       "      <td>0.0</td>\n",
       "      <td>1.79</td>\n",
       "      <td>0.419083</td>\n",
       "      <td>0.430</td>\n",
       "      <td>0.410342</td>\n",
       "      <td>0.0</td>\n",
       "      <td>0.71</td>\n",
       "      <td>0</td>\n",
       "    </tr>\n",
       "  </tbody>\n",
       "</table>\n",
       "<p>5 rows × 43 columns</p>\n",
       "</div>"
      ],
      "text/plain": [
       "    min1   max1      mean1  median1      std1  1st quartile1  3rd quartile1  \\\n",
       "0  36.50  46.50  44.057167    44.50  1.553724        43.2500          45.00   \n",
       "1  35.00  47.40  43.851833    43.50  1.553920        43.0000          45.00   \n",
       "2  33.75  47.75  43.278875    45.00  3.466111        42.0000          45.25   \n",
       "3  33.00  46.00  41.080750    42.00  3.530103        37.7500          44.50   \n",
       "4  33.00  45.75  41.621208    42.33  3.112140        39.6525          44.25   \n",
       "\n",
       "   min2  max2     mean2   ...    1st quartile5  3rd quartile5  min6  max6  \\\n",
       "0   0.0  1.50  0.381042   ...            36.00          37.00   0.0  1.79   \n",
       "1   0.0  1.70  0.471458   ...            33.00          36.25   0.0  1.50   \n",
       "2   0.0  3.00  0.673292   ...            36.00          37.00   0.0  1.53   \n",
       "3   0.0  2.86  0.718792   ...            28.75          33.75   0.0  2.18   \n",
       "4   0.0  2.83  0.623083   ...            28.50          31.50   0.0  1.79   \n",
       "\n",
       "      mean6  median6      std6  1st quartile6  3rd quartile6  Labels  \n",
       "0  0.598250    0.500  0.525558            0.0           1.00       0  \n",
       "1  0.388333    0.000  0.477530            0.0           0.71       0  \n",
       "2  0.640958    0.765  0.553385            0.0           1.22       0  \n",
       "3  0.586083    0.470  0.490847            0.0           0.87       0  \n",
       "4  0.419083    0.430  0.410342            0.0           0.71       0  \n",
       "\n",
       "[5 rows x 43 columns]"
      ]
     },
     "execution_count": 27,
     "metadata": {},
     "output_type": "execute_result"
    }
   ],
   "source": [
    "df.head()"
   ]
  },
  {
   "cell_type": "code",
   "execution_count": 28,
   "metadata": {
    "collapsed": true
   },
   "outputs": [],
   "source": [
    "def important_feature(alist):\n",
    "    feature_list=[]\n",
    "    for i in range(len(alist)):\n",
    "        if alist[i]==True:\n",
    "            feature_list.append(columns[i])\n",
    "    return feature_list\n",
    "            "
   ]
  },
  {
   "cell_type": "code",
   "execution_count": 93,
   "metadata": {},
   "outputs": [],
   "source": [
    "from sklearn.linear_model import LogisticRegression\n",
    "from sklearn.feature_selection import RFE\n",
    "def grid_search_cv():\n",
    "    res=0\n",
    "    best_k_number=0\n",
    "    best_k_feature_number=0\n",
    "    current_list=[]\n",
    "    \n",
    "    for i in range(1,21):\n",
    "        k_times_list=get_K_Times_Train_Datasets(i)\n",
    "        matrix=get_DataMatrix(k_times_list)\n",
    "        df=pd.DataFrame(matrix,columns=columns)\n",
    "        df[\"Labels\"]=[0]*(9*i)+[1]*(len(k_times_list)-(9*i))\n",
    "        X_train=df.drop(\"Labels\",axis=1)\n",
    "        min_max_scaler = preprocessing.MinMaxScaler()\n",
    "        X_train_normalized=min_max_scaler.fit_transform(X_train)\n",
    "        Y_train=df[\"Labels\"]\n",
    "        \n",
    "        cv_score=0\n",
    "        current_best_k=0\n",
    "        current_best_feature_number=0\n",
    "        \n",
    "        for j in range(1,43):\n",
    "            model=LogisticRegression()\n",
    "            rfe=RFE(model,j)\n",
    "\n",
    "            rfe.fit(X_train_normalized,Y_train)\n",
    "            ranking_list=rfe.support_\n",
    "\n",
    "            feature_list=important_feature(ranking_list)\n",
    "\n",
    "            new_X_train=df[feature_list]\n",
    "            Y_train=df[\"Labels\"]\n",
    "\n",
    "            min_max_scaler = preprocessing.MinMaxScaler()\n",
    "            new_X_train_normalized=min_max_scaler.fit_transform(new_X_train)\n",
    "\n",
    "            Log=linear_model.LogisticRegression()\n",
    "            scores = cross_val_score(Log,new_X_train_normalized ,Y_train, cv=5)\n",
    "            avg_scores=np.mean(scores)\n",
    "            #print(\"When Time Series =\"+str(i)+\",Feature number equals =\"+str(j)+\" CV scores is\"+str(avg_scores))\n",
    "            \n",
    "            if avg_scores>res:\n",
    "                res=avg_scores\n",
    "                best_k_number=i\n",
    "                best_k_feature_number=j\n",
    "            if avg_scores>cv_score:\n",
    "                cv_score=avg_scores\n",
    "                current_best_k=i\n",
    "                current_best_feature_number=j\n",
    "        current_list.append((current_best_k,current_best_feature_number))\n",
    "            \n",
    "                \n",
    "                \n",
    "    return current_list\n",
    "alist=grid_search_cv()"
   ]
  },
  {
   "cell_type": "markdown",
   "metadata": {},
   "source": [
    "From the Above result, we can find that when Time Series number=6, and the feature number equals to 9, The cross validation result is the highest with 95.40% accuracy"
   ]
  },
  {
   "cell_type": "code",
   "execution_count": 30,
   "metadata": {},
   "outputs": [
    {
     "name": "stderr",
     "output_type": "stream",
     "text": [
      "/Library/Frameworks/Python.framework/Versions/3.6/lib/python3.6/site-packages/ipykernel_launcher.py:19: SettingWithCopyWarning: \n",
      "A value is trying to be set on a copy of a slice from a DataFrame.\n",
      "Try using .loc[row_indexer,col_indexer] = value instead\n",
      "\n",
      "See the caveats in the documentation: http://pandas.pydata.org/pandas-docs/stable/indexing.html#indexing-view-versus-copy\n"
     ]
    }
   ],
   "source": [
    "#save it to the csv file\n",
    "\n",
    "six_times_list=get_K_Times_Train_Datasets(6)\n",
    "matrix=get_DataMatrix(six_times_list)\n",
    "df=pd.DataFrame(matrix,columns=columns)\n",
    "df[\"Labels\"]=[0]*(9*6)+[1]*(len(six_times_list)-(9*6))\n",
    "\n",
    "X_train=df.drop(\"Labels\",axis=1)\n",
    "min_max_scaler = preprocessing.MinMaxScaler()\n",
    "X_train_normalized=min_max_scaler.fit_transform(X_train)\n",
    "Y_train=df[\"Labels\"]\n",
    "\n",
    "model=LogisticRegression()\n",
    "rfe=RFE(model,9)\n",
    "rfe.fit(X_train_normalized,Y_train)\n",
    "ranking_list=rfe.support_\n",
    "feature_list=important_feature(ranking_list)\n",
    "best_model=df[feature_list]\n",
    "best_model[\"Labels\"]=Y_train\n",
    "best_model.to_csv(\"Best_Model.csv\")\n"
   ]
  },
  {
   "cell_type": "code",
   "execution_count": 31,
   "metadata": {},
   "outputs": [
    {
     "data": {
      "text/plain": [
       "(414, 10)"
      ]
     },
     "execution_count": 31,
     "metadata": {},
     "output_type": "execute_result"
    }
   ],
   "source": [
    "best_model.shape"
   ]
  },
  {
   "cell_type": "code",
   "execution_count": 32,
   "metadata": {},
   "outputs": [
    {
     "data": {
      "text/html": [
       "<div>\n",
       "<style scoped>\n",
       "    .dataframe tbody tr th:only-of-type {\n",
       "        vertical-align: middle;\n",
       "    }\n",
       "\n",
       "    .dataframe tbody tr th {\n",
       "        vertical-align: top;\n",
       "    }\n",
       "\n",
       "    .dataframe thead th {\n",
       "        text-align: right;\n",
       "    }\n",
       "</style>\n",
       "<table border=\"1\" class=\"dataframe\">\n",
       "  <thead>\n",
       "    <tr style=\"text-align: right;\">\n",
       "      <th></th>\n",
       "      <th>min2</th>\n",
       "      <th>1st quartile2</th>\n",
       "      <th>1st quartile3</th>\n",
       "      <th>median4</th>\n",
       "      <th>1st quartile4</th>\n",
       "      <th>min5</th>\n",
       "      <th>max5</th>\n",
       "      <th>mean5</th>\n",
       "      <th>3rd quartile5</th>\n",
       "      <th>Labels</th>\n",
       "    </tr>\n",
       "  </thead>\n",
       "  <tbody>\n",
       "    <tr>\n",
       "      <th>0</th>\n",
       "      <td>0.0</td>\n",
       "      <td>0.0</td>\n",
       "      <td>22.1875</td>\n",
       "      <td>0.215</td>\n",
       "      <td>0.0</td>\n",
       "      <td>30.0</td>\n",
       "      <td>37.50</td>\n",
       "      <td>35.906250</td>\n",
       "      <td>36.5000</td>\n",
       "      <td>0</td>\n",
       "    </tr>\n",
       "    <tr>\n",
       "      <th>1</th>\n",
       "      <td>0.0</td>\n",
       "      <td>0.0</td>\n",
       "      <td>22.5000</td>\n",
       "      <td>0.470</td>\n",
       "      <td>0.0</td>\n",
       "      <td>33.0</td>\n",
       "      <td>38.50</td>\n",
       "      <td>36.791500</td>\n",
       "      <td>37.5000</td>\n",
       "      <td>0</td>\n",
       "    </tr>\n",
       "    <tr>\n",
       "      <th>2</th>\n",
       "      <td>0.0</td>\n",
       "      <td>0.0</td>\n",
       "      <td>20.2500</td>\n",
       "      <td>0.485</td>\n",
       "      <td>0.0</td>\n",
       "      <td>32.5</td>\n",
       "      <td>38.33</td>\n",
       "      <td>36.182875</td>\n",
       "      <td>37.6900</td>\n",
       "      <td>0</td>\n",
       "    </tr>\n",
       "    <tr>\n",
       "      <th>3</th>\n",
       "      <td>0.0</td>\n",
       "      <td>0.0</td>\n",
       "      <td>20.1875</td>\n",
       "      <td>0.470</td>\n",
       "      <td>0.0</td>\n",
       "      <td>29.0</td>\n",
       "      <td>37.00</td>\n",
       "      <td>33.245625</td>\n",
       "      <td>35.7525</td>\n",
       "      <td>0</td>\n",
       "    </tr>\n",
       "    <tr>\n",
       "      <th>4</th>\n",
       "      <td>0.0</td>\n",
       "      <td>0.0</td>\n",
       "      <td>20.1875</td>\n",
       "      <td>0.430</td>\n",
       "      <td>0.0</td>\n",
       "      <td>30.0</td>\n",
       "      <td>38.25</td>\n",
       "      <td>35.385875</td>\n",
       "      <td>37.0000</td>\n",
       "      <td>0</td>\n",
       "    </tr>\n",
       "  </tbody>\n",
       "</table>\n",
       "</div>"
      ],
      "text/plain": [
       "   min2  1st quartile2  1st quartile3  median4  1st quartile4  min5   max5  \\\n",
       "0   0.0            0.0        22.1875    0.215            0.0  30.0  37.50   \n",
       "1   0.0            0.0        22.5000    0.470            0.0  33.0  38.50   \n",
       "2   0.0            0.0        20.2500    0.485            0.0  32.5  38.33   \n",
       "3   0.0            0.0        20.1875    0.470            0.0  29.0  37.00   \n",
       "4   0.0            0.0        20.1875    0.430            0.0  30.0  38.25   \n",
       "\n",
       "       mean5  3rd quartile5  Labels  \n",
       "0  35.906250        36.5000       0  \n",
       "1  36.791500        37.5000       0  \n",
       "2  36.182875        37.6900       0  \n",
       "3  33.245625        35.7525       0  \n",
       "4  35.385875        37.0000       0  "
      ]
     },
     "execution_count": 32,
     "metadata": {},
     "output_type": "execute_result"
    }
   ],
   "source": [
    "best_model.head()"
   ]
  },
  {
   "cell_type": "code",
   "execution_count": 33,
   "metadata": {
    "collapsed": true
   },
   "outputs": [],
   "source": [
    "#make the plot of ROC and AUC curve\n",
    "from sklearn import metrics\n",
    "X_train=best_model.drop(\"Labels\",axis=1)\n",
    "X_train=np.array(X_train)\n",
    "Y_train=list(best_model[\"Labels\"])\n",
    "\n",
    "model=LogisticRegression()\n",
    "model.fit(X_train,Y_train)\n",
    "probs=model.predict_proba(X_train)"
   ]
  },
  {
   "cell_type": "code",
   "execution_count": 34,
   "metadata": {
    "collapsed": true
   },
   "outputs": [],
   "source": [
    "preds = probs[:,1]\n",
    "fpr, tpr, threshold = metrics.roc_curve(Y_train, preds)\n",
    "roc_auc = metrics.auc(fpr, tpr)"
   ]
  },
  {
   "cell_type": "code",
   "execution_count": 35,
   "metadata": {},
   "outputs": [
    {
     "name": "stdout",
     "output_type": "stream",
     "text": [
      "0.9839506172839506\n"
     ]
    }
   ],
   "source": [
    "print(roc_auc) #So the AUC curve result is 98.3%"
   ]
  },
  {
   "cell_type": "code",
   "execution_count": 36,
   "metadata": {
    "collapsed": true
   },
   "outputs": [],
   "source": [
    "df = pd.DataFrame(dict(fpr = fpr, tpr = tpr))\n"
   ]
  },
  {
   "cell_type": "code",
   "execution_count": 37,
   "metadata": {},
   "outputs": [
    {
     "data": {
      "text/plain": [
       "Text(0,0.5,'TPR')"
      ]
     },
     "execution_count": 37,
     "metadata": {},
     "output_type": "execute_result"
    },
    {
     "data": {
      "image/png": "[encoded data removed]",
      "text/plain": [
       "<matplotlib.figure.Figure at 0x1099180b8>"
      ]
     },
     "metadata": {},
     "output_type": "display_data"
    }
   ],
   "source": [
    "plt.plot(fpr,tpr)\n",
    "plt.xlabel(\"FPR\")\n",
    "plt.ylabel(\"TPR\")"
   ]
  },
  {
   "cell_type": "markdown",
   "metadata": {},
   "source": [
    "# from here we can find the best model is 6 times series and the Number of features equals to 9,we will save it"
   ]
  },
  {
   "cell_type": "markdown",
   "metadata": {},
   "source": [
    "#P_value calcualtion\n",
    "#Method-calcuate P value by using the code \n",
    "fit<- glm(Labels~. ,data=Best_Model,family = binomial())\n",
    "#summary(fit) in R\n",
    "\n"
   ]
  },
  {
   "cell_type": "raw",
   "metadata": {},
   "source": [
    "Coefficients:\n",
    "                 Estimate Std. Error z value Pr(>|z|)    \n",
    "(Intercept)       25.2657     9.2451   2.733 0.006278 ** \n",
    "min2              28.3598  4869.4543   0.006 0.995353    \n",
    "`1st quartile2`    8.4463     5.0186   1.683 0.092377 .  \n",
    "`1st quartile3`    1.1611     0.3363   3.452 0.000556 ***\n",
    "median4          -11.2355     6.0051  -1.871 0.061347 .  \n",
    "`1st quartile4`   25.0989     8.4415   2.973 0.002946 ** \n",
    "min5              -1.4364     0.6474  -2.219 0.026505 *  \n",
    "max5              -1.8947     0.6016  -3.149 0.001637 ** \n",
    "mean5              6.9458     3.2256   2.153 0.031293 *  \n",
    "`3rd quartile5`   -5.5669     2.8060  -1.984 0.047267 *  "
   ]
  },
  {
   "cell_type": "markdown",
   "metadata": {},
   "source": [
    "# Explain what the right way and the wrong way are to perform cross-validation in this problem"
   ]
  },
  {
   "cell_type": "markdown",
   "metadata": {},
   "source": [
    "Correct Way:According to the above experiment,we can find that the correct procedure to choose the cross validation result is set different parameters, and then use cross-validation to guide us to pick the correct parameters."
   ]
  },
  {
   "cell_type": "code",
   "execution_count": 38,
   "metadata": {
    "collapsed": true
   },
   "outputs": [],
   "source": [
    "from sklearn.metrics import confusion_matrix"
   ]
  },
  {
   "cell_type": "markdown",
   "metadata": {},
   "source": [
    "# Report the confusion matrix and show the ROC and AUC for your classifier on train data. Report the parameters of your logistic regression βi’s as well as the p-values associated with them."
   ]
  },
  {
   "cell_type": "code",
   "execution_count": 39,
   "metadata": {
    "collapsed": true
   },
   "outputs": [],
   "source": [
    "data=pd.read_csv(\"Best_Model.csv\")"
   ]
  },
  {
   "cell_type": "code",
   "execution_count": 40,
   "metadata": {},
   "outputs": [
    {
     "data": {
      "text/html": [
       "<div>\n",
       "<style scoped>\n",
       "    .dataframe tbody tr th:only-of-type {\n",
       "        vertical-align: middle;\n",
       "    }\n",
       "\n",
       "    .dataframe tbody tr th {\n",
       "        vertical-align: top;\n",
       "    }\n",
       "\n",
       "    .dataframe thead th {\n",
       "        text-align: right;\n",
       "    }\n",
       "</style>\n",
       "<table border=\"1\" class=\"dataframe\">\n",
       "  <thead>\n",
       "    <tr style=\"text-align: right;\">\n",
       "      <th></th>\n",
       "      <th>Unnamed: 0</th>\n",
       "      <th>min2</th>\n",
       "      <th>1st quartile2</th>\n",
       "      <th>1st quartile3</th>\n",
       "      <th>median4</th>\n",
       "      <th>1st quartile4</th>\n",
       "      <th>min5</th>\n",
       "      <th>max5</th>\n",
       "      <th>mean5</th>\n",
       "      <th>3rd quartile5</th>\n",
       "      <th>Labels</th>\n",
       "    </tr>\n",
       "  </thead>\n",
       "  <tbody>\n",
       "    <tr>\n",
       "      <th>0</th>\n",
       "      <td>0</td>\n",
       "      <td>0.0</td>\n",
       "      <td>0.0</td>\n",
       "      <td>22.1875</td>\n",
       "      <td>0.215</td>\n",
       "      <td>0.0</td>\n",
       "      <td>30.0</td>\n",
       "      <td>37.50</td>\n",
       "      <td>35.906250</td>\n",
       "      <td>36.5000</td>\n",
       "      <td>0</td>\n",
       "    </tr>\n",
       "    <tr>\n",
       "      <th>1</th>\n",
       "      <td>1</td>\n",
       "      <td>0.0</td>\n",
       "      <td>0.0</td>\n",
       "      <td>22.5000</td>\n",
       "      <td>0.470</td>\n",
       "      <td>0.0</td>\n",
       "      <td>33.0</td>\n",
       "      <td>38.50</td>\n",
       "      <td>36.791500</td>\n",
       "      <td>37.5000</td>\n",
       "      <td>0</td>\n",
       "    </tr>\n",
       "    <tr>\n",
       "      <th>2</th>\n",
       "      <td>2</td>\n",
       "      <td>0.0</td>\n",
       "      <td>0.0</td>\n",
       "      <td>20.2500</td>\n",
       "      <td>0.485</td>\n",
       "      <td>0.0</td>\n",
       "      <td>32.5</td>\n",
       "      <td>38.33</td>\n",
       "      <td>36.182875</td>\n",
       "      <td>37.6900</td>\n",
       "      <td>0</td>\n",
       "    </tr>\n",
       "    <tr>\n",
       "      <th>3</th>\n",
       "      <td>3</td>\n",
       "      <td>0.0</td>\n",
       "      <td>0.0</td>\n",
       "      <td>20.1875</td>\n",
       "      <td>0.470</td>\n",
       "      <td>0.0</td>\n",
       "      <td>29.0</td>\n",
       "      <td>37.00</td>\n",
       "      <td>33.245625</td>\n",
       "      <td>35.7525</td>\n",
       "      <td>0</td>\n",
       "    </tr>\n",
       "    <tr>\n",
       "      <th>4</th>\n",
       "      <td>4</td>\n",
       "      <td>0.0</td>\n",
       "      <td>0.0</td>\n",
       "      <td>20.1875</td>\n",
       "      <td>0.430</td>\n",
       "      <td>0.0</td>\n",
       "      <td>30.0</td>\n",
       "      <td>38.25</td>\n",
       "      <td>35.385875</td>\n",
       "      <td>37.0000</td>\n",
       "      <td>0</td>\n",
       "    </tr>\n",
       "  </tbody>\n",
       "</table>\n",
       "</div>"
      ],
      "text/plain": [
       "   Unnamed: 0  min2  1st quartile2  1st quartile3  median4  1st quartile4  \\\n",
       "0           0   0.0            0.0        22.1875    0.215            0.0   \n",
       "1           1   0.0            0.0        22.5000    0.470            0.0   \n",
       "2           2   0.0            0.0        20.2500    0.485            0.0   \n",
       "3           3   0.0            0.0        20.1875    0.470            0.0   \n",
       "4           4   0.0            0.0        20.1875    0.430            0.0   \n",
       "\n",
       "   min5   max5      mean5  3rd quartile5  Labels  \n",
       "0  30.0  37.50  35.906250        36.5000       0  \n",
       "1  33.0  38.50  36.791500        37.5000       0  \n",
       "2  32.5  38.33  36.182875        37.6900       0  \n",
       "3  29.0  37.00  33.245625        35.7525       0  \n",
       "4  30.0  38.25  35.385875        37.0000       0  "
      ]
     },
     "execution_count": 40,
     "metadata": {},
     "output_type": "execute_result"
    }
   ],
   "source": [
    "data.head()"
   ]
  },
  {
   "cell_type": "code",
   "execution_count": 41,
   "metadata": {},
   "outputs": [
    {
     "name": "stdout",
     "output_type": "stream",
     "text": [
      "[[ 49   0]\n",
      " [  5 360]]\n"
     ]
    }
   ],
   "source": [
    "train_x=data.drop(\"Labels\",axis=1)\n",
    "train_y=data[\"Labels\"]\n",
    "\n",
    "min_max_scaler = preprocessing.MinMaxScaler()\n",
    "train_x_norm=min_max_scaler.fit_transform(train_x)\n",
    "\n",
    "model=LogisticRegression()\n",
    "model.fit(train_x_norm,train_y)\n",
    "predict=model.predict(train_x_norm)\n",
    "\n",
    "print(confusion_matrix(predict,train_y))\n",
    "\n"
   ]
  },
  {
   "cell_type": "raw",
   "metadata": {},
   "source": [
    "Coefficients:\n",
    "                 Estimate Std. Error z value Pr(>|z|)    \n",
    "(Intercept)       25.2657     9.2451   2.733 0.006278 ** \n",
    "min2              28.3598  4869.4543   0.006 0.995353    \n",
    "`1st quartile2`    8.4463     5.0186   1.683 0.092377 .  \n",
    "`1st quartile3`    1.1611     0.3363   3.452 0.000556 ***\n",
    "median4          -11.2355     6.0051  -1.871 0.061347 .  \n",
    "`1st quartile4`   25.0989     8.4415   2.973 0.002946 ** \n",
    "min5              -1.4364     0.6474  -2.219 0.026505 *  \n",
    "max5              -1.8947     0.6016  -3.149 0.001637 ** \n",
    "mean5              6.9458     3.2256   2.153 0.031293 *  \n",
    "`3rd quartile5`   -5.5669     2.8060  -1.984 0.047267 *  "
   ]
  },
  {
   "cell_type": "markdown",
   "metadata": {},
   "source": [
    "# Test the classifier on the test set. Remember to break the time series in your test set into the same number of time series into which you broke your training set. Remember that the classifier has to be tested using the features extracted from the test set. Compare the accuracy on the test set with the cross-validation accuracy you obtained previously."
   ]
  },
  {
   "cell_type": "code",
   "execution_count": 42,
   "metadata": {
    "collapsed": true
   },
   "outputs": [],
   "source": [
    "#then we can know the test datasets also need to have time series=6, and K=9. \n",
    "train_data=pd.read_csv(\"Best_Model.csv\")\n"
   ]
  },
  {
   "cell_type": "code",
   "execution_count": 43,
   "metadata": {
    "collapsed": true
   },
   "outputs": [],
   "source": [
    "def get_test_datasets_labels():\n",
    "    new_list=[]\n",
    "    for i in range(len(test_data_list)):\n",
    "        if i<4:\n",
    "            test_data_list[i][\"Labels\"]=[\"Bedding\"]*480\n",
    "        else:\n",
    "            test_data_list[i][\"Labels\"]=[\"Others\"]*480\n",
    "        new_list.append(train_data_list[i])\n",
    "    return new_list\n",
    "new_test_data_list=get_test_datasets_labels()"
   ]
  },
  {
   "cell_type": "code",
   "execution_count": 44,
   "metadata": {
    "collapsed": true
   },
   "outputs": [],
   "source": [
    "def get_K_Times_Test_Datasets(k):\n",
    "    all_list=[]\n",
    "    for test_data in new_test_data_list:\n",
    "        alist=[x for x in range(480)]\n",
    "        list_split=get_list_split(alist,k)\n",
    "        \n",
    "        for i in range(len(list_split)):\n",
    "            new_test_data=test_data.loc[list_split[i],:]\n",
    "            all_list.append(new_test_data)\n",
    "    return all_list"
   ]
  },
  {
   "cell_type": "code",
   "execution_count": 45,
   "metadata": {
    "collapsed": true
   },
   "outputs": [],
   "source": [
    "#then we will get the whole test datasets\n",
    "six_times_test_list=get_K_Times_Train_Datasets(6)\n",
    "matrix=get_DataMatrix(six_times_test_list)\n",
    "df=pd.DataFrame(matrix,columns=columns)\n",
    "df[\"Labels\"]=[0]*(9*6)+[1]*(len(six_times_test_list)-(9*6))"
   ]
  },
  {
   "cell_type": "code",
   "execution_count": 46,
   "metadata": {
    "collapsed": true
   },
   "outputs": [],
   "source": [
    "train_data=train_data.drop(\"Unnamed: 0\",axis=1)"
   ]
  },
  {
   "cell_type": "code",
   "execution_count": 47,
   "metadata": {
    "collapsed": true
   },
   "outputs": [],
   "source": [
    "clean_feature=list(train_data.columns)"
   ]
  },
  {
   "cell_type": "code",
   "execution_count": 48,
   "metadata": {
    "collapsed": true
   },
   "outputs": [],
   "source": [
    "test_data=df[clean_feature]"
   ]
  },
  {
   "cell_type": "code",
   "execution_count": 49,
   "metadata": {},
   "outputs": [
    {
     "name": "stdout",
     "output_type": "stream",
     "text": [
      "(414, 10)\n",
      "(414, 10)\n"
     ]
    }
   ],
   "source": [
    "print(train_data.shape)\n",
    "print(test_data.shape)"
   ]
  },
  {
   "cell_type": "code",
   "execution_count": 50,
   "metadata": {},
   "outputs": [
    {
     "name": "stdout",
     "output_type": "stream",
     "text": [
      "[[ 54 360]\n",
      " [  0   0]]\n",
      "The test datasets accuracy score is: 0.13043478260869565\n"
     ]
    }
   ],
   "source": [
    "from sklearn.metrics import confusion_matrix\n",
    "train_x=train_data.drop(\"Labels\",axis=1)\n",
    "train_y=train_data[\"Labels\"]\n",
    "\n",
    "test_x=test_data.drop(\"Labels\",axis=1)\n",
    "test_y=test_data[\"Labels\"]\n",
    "\n",
    "min_max_scaler = preprocessing.MinMaxScaler()\n",
    "train_x_normalized=min_max_scaler.fit_transform(train_x)\n",
    "test_x_normalized=min_max_scaler.fit_transform(test_x)\n",
    "\n",
    "\n",
    "Log=LogisticRegression()\n",
    "Log.fit(train_x_normalized,train_y)\n",
    "predict=Log.predict(test_x)\n",
    "matrix=confusion_matrix(predict,test_y)\n",
    "accuracy=(matrix[0][0]+matrix[1][1])/(matrix[0][0]+matrix[0][1]+matrix[1][0]+matrix[1][1])\n",
    "print(matrix)\n",
    "print(\"The test datasets accuracy score is: \"+str(accuracy))"
   ]
  },
  {
   "cell_type": "markdown",
   "metadata": {},
   "source": [
    "From above we can find that the test dataset accuracy is only 13.0%, which are much lower than the cross validation score in test datasets"
   ]
  },
  {
   "cell_type": "markdown",
   "metadata": {},
   "source": [
    "# Do your classes seem to be well-separated to cause instability in calculating logistic regression parameters?"
   ]
  },
  {
   "cell_type": "raw",
   "metadata": {},
   "source": [
    "No, the datasets most of data are others and just a few data are bending. Which caused some imbalance datasets, THen we will use the oversampling tech to solve this problem "
   ]
  },
  {
   "cell_type": "markdown",
   "metadata": {},
   "source": [
    "# From the confusion matrices you obtained, do you see imbalanced classes? If yes, build a logistic regression model based on case-control sampling and adjust its parameters. Report the confusion matrix, ROC, and AUC of the model."
   ]
  },
  {
   "cell_type": "code",
   "execution_count": 51,
   "metadata": {
    "collapsed": true
   },
   "outputs": [],
   "source": [
    "from sklearn.model_selection import train_test_split\n",
    "from sklearn.metrics import recall_score\n",
    "from imblearn.over_sampling import SMOTE"
   ]
  },
  {
   "cell_type": "code",
   "execution_count": 52,
   "metadata": {
    "collapsed": true
   },
   "outputs": [],
   "source": [
    "train_features=train_data.drop(\"Labels\",axis=1)\n",
    "train_target=train_data[\"Labels\"]\n",
    "\n",
    "test_features=test_data.drop(\"Labels\",axis=1)\n",
    "test_target=test_data[\"Labels\"]"
   ]
  },
  {
   "cell_type": "code",
   "execution_count": 53,
   "metadata": {
    "collapsed": true
   },
   "outputs": [],
   "source": [
    "x_train, x_val, y_train, y_val = train_test_split(train_features, train_target,\n",
    "                                                  test_size = .1,\n",
    "                                                  random_state=12)"
   ]
  },
  {
   "cell_type": "code",
   "execution_count": 54,
   "metadata": {},
   "outputs": [
    {
     "name": "stderr",
     "output_type": "stream",
     "text": [
      "/Library/Frameworks/Python.framework/Versions/3.6/lib/python3.6/site-packages/sklearn/utils/deprecation.py:77: DeprecationWarning: Function _ratio_float is deprecated; Use a float for 'ratio' is deprecated from version 0.2. The support will be removed in 0.4. Use a dict, str, or a callable instead.\n",
      "  warnings.warn(msg, category=DeprecationWarning)\n"
     ]
    }
   ],
   "source": [
    "sm = SMOTE(random_state=12, ratio = 1.0)\n",
    "x_train_res, y_train_res = sm.fit_sample(x_train, y_train)"
   ]
  },
  {
   "cell_type": "code",
   "execution_count": 55,
   "metadata": {},
   "outputs": [
    {
     "data": {
      "text/plain": [
       "LogisticRegression(C=1.0, class_weight=None, dual=False, fit_intercept=True,\n",
       "          intercept_scaling=1, max_iter=100, multi_class='ovr', n_jobs=1,\n",
       "          penalty='l2', random_state=None, solver='liblinear', tol=0.0001,\n",
       "          verbose=0, warm_start=False)"
      ]
     },
     "execution_count": 55,
     "metadata": {},
     "output_type": "execute_result"
    }
   ],
   "source": [
    "log=LogisticRegression()\n",
    "log.fit(x_train_res,y_train_res)\n"
   ]
  },
  {
   "cell_type": "code",
   "execution_count": 56,
   "metadata": {},
   "outputs": [
    {
     "name": "stdout",
     "output_type": "stream",
     "text": [
      "0.9523809523809523\n",
      "0.9375\n"
     ]
    }
   ],
   "source": [
    "print(log.score(x_val,y_val))\n",
    "print(recall_score(y_val, log.predict(x_val)))"
   ]
  },
  {
   "cell_type": "code",
   "execution_count": 57,
   "metadata": {
    "collapsed": true
   },
   "outputs": [],
   "source": [
    "matrix=confusion_matrix(log.predict(x_val),y_val)"
   ]
  },
  {
   "cell_type": "code",
   "execution_count": 58,
   "metadata": {},
   "outputs": [
    {
     "name": "stdout",
     "output_type": "stream",
     "text": [
      "[[10  2]\n",
      " [ 0 30]]\n",
      "The test datasets accuracy score is: 0.9523809523809523\n"
     ]
    }
   ],
   "source": [
    "print(matrix)\n",
    "accuracy=(matrix[0][0]+matrix[1][1])/(matrix[0][0]+matrix[0][1]+matrix[1][0]+matrix[1][1])\n",
    "print(\"The test datasets accuracy score is: \"+str(accuracy))"
   ]
  },
  {
   "cell_type": "raw",
   "metadata": {},
   "source": [
    "# After oversampling, we can find that accuracy greatly improved from 47.3% to 95.2%"
   ]
  },
  {
   "cell_type": "markdown",
   "metadata": {
    "collapsed": true
   },
   "source": [
    "# (e) Binary Classification Using L1-penalized logistic regression"
   ]
  },
  {
   "cell_type": "markdown",
   "metadata": {},
   "source": [
    " i. Repeat 1(d)iii using L1-penalized logistic regression,8 i.e. instead of using p- values for variable selection, use L1 regularization. Note that in this problem, you have to cross-validate for both l, the number of time series into which you break each of your instances, and λ, the weight of L1 penalty in your logistic regression objective function (or C, the budget). Packages usually perform cross-validation for λ automatically.9"
   ]
  },
  {
   "cell_type": "code",
   "execution_count": 94,
   "metadata": {},
   "outputs": [
    {
     "name": "stdout",
     "output_type": "stream",
     "text": [
      "[(0.9857142857142858, 1, 1)]\n"
     ]
    }
   ],
   "source": [
    "from sklearn.linear_model import LogisticRegression\n",
    "from sklearn.feature_selection import RFE\n",
    "def logistic_grid_search_cv():\n",
    "    res=0\n",
    "    best_k_number=0\n",
    "    best_lambda=0\n",
    "    current_list=[]\n",
    "    \n",
    "    #i is the number of Time Seires, J is the number of Lambda we choose\n",
    "    for i in range(1,21):\n",
    "        k_times_list=get_K_Times_Train_Datasets(i)\n",
    "        matrix=get_DataMatrix(k_times_list)\n",
    "        df=pd.DataFrame(matrix,columns=columns)\n",
    "        df[\"Labels\"]=[0]*(9*i)+[1]*(len(k_times_list)-(9*i))\n",
    "        \n",
    "        X_train=df.drop(\"Labels\",axis=1)\n",
    "        min_max_scaler = preprocessing.MinMaxScaler()\n",
    "        X_train_normalized=min_max_scaler.fit_transform(X_train)\n",
    "        Y_train=df[\"Labels\"]\n",
    "        \n",
    "        cv_score=0\n",
    "        current_best_k=0\n",
    "        current_best_feature_number=0\n",
    "        \n",
    "        \n",
    "        for j in np.arange(1,100):\n",
    "            model=LogisticRegression(penalty=\"l1\",C=1/j)\n",
    "            scores = cross_val_score(model,X_train_normalized ,Y_train, cv=5)\n",
    "            avg_scores=np.mean(scores)\n",
    "            #print(\"When Time Series =\"+str(i)+\", Lasso Regualize Lambda =\"+str(j)+\" CV scores is\"+str(avg_scores))\n",
    "            \n",
    "            if avg_scores>res:\n",
    "                res=avg_scores\n",
    "                best_k_number=i\n",
    "                best_lambda=j\n",
    "                \n",
    "    current_list.append((res,best_k_number,best_lambda))\n",
    "            \n",
    "                \n",
    "                \n",
    "    return current_list\n",
    "\n",
    "Lasso_Res=logistic_grid_search_cv()\n",
    "print(Lasso_Res)"
   ]
  },
  {
   "cell_type": "markdown",
   "metadata": {},
   "source": [
    "ii. Compare the L1-penalized with variable selection using p-values. Which one performs better? Which one is easier to implement?"
   ]
  },
  {
   "cell_type": "markdown",
   "metadata": {},
   "source": [
    "From The above result, we can find that L1 Regualizer is much easier to implement because it did not have the process of feature selection, it can Automatically select the feature. Also The best Accuracy score is 98.7% which is higher than the RTF best Accuracy is 95.4%"
   ]
  },
  {
   "cell_type": "markdown",
   "metadata": {},
   "source": [
    "# (f) Multi-class Classification (The Realistic Case)"
   ]
  },
  {
   "cell_type": "markdown",
   "metadata": {},
   "source": [
    "i. Find the best l in the same way as you found it in 1(e)i to build an L1- penalized multinomial regression model to classify all activities in your train- ing set.10 Report your test error. Research how confusion matrices and ROC curves are defined for multiclass classification and show them for this problem if possible.11"
   ]
  },
  {
   "cell_type": "code",
   "execution_count": 60,
   "metadata": {
    "collapsed": true
   },
   "outputs": [],
   "source": [
    "#The first step is that we will construct the matrix, And then give them differenct names, seven names totally"
   ]
  },
  {
   "cell_type": "code",
   "execution_count": 69,
   "metadata": {
    "collapsed": true
   },
   "outputs": [],
   "source": [
    "train_data=pd.DataFrame(train_matrix,columns=columns)\n",
    "test_data=pd.DataFrame(test_matrix,columns=columns)"
   ]
  },
  {
   "cell_type": "code",
   "execution_count": 70,
   "metadata": {},
   "outputs": [
    {
     "data": {
      "text/plain": [
       "(69, 42)"
      ]
     },
     "execution_count": 70,
     "metadata": {},
     "output_type": "execute_result"
    }
   ],
   "source": [
    "train_data.shape"
   ]
  },
  {
   "cell_type": "code",
   "execution_count": 71,
   "metadata": {},
   "outputs": [
    {
     "data": {
      "text/plain": [
       "(19, 42)"
      ]
     },
     "execution_count": 71,
     "metadata": {},
     "output_type": "execute_result"
    }
   ],
   "source": [
    "test_data.shape"
   ]
  },
  {
   "cell_type": "code",
   "execution_count": 72,
   "metadata": {},
   "outputs": [
    {
     "data": {
      "text/html": [
       "<div>\n",
       "<style scoped>\n",
       "    .dataframe tbody tr th:only-of-type {\n",
       "        vertical-align: middle;\n",
       "    }\n",
       "\n",
       "    .dataframe tbody tr th {\n",
       "        vertical-align: top;\n",
       "    }\n",
       "\n",
       "    .dataframe thead th {\n",
       "        text-align: right;\n",
       "    }\n",
       "</style>\n",
       "<table border=\"1\" class=\"dataframe\">\n",
       "  <thead>\n",
       "    <tr style=\"text-align: right;\">\n",
       "      <th></th>\n",
       "      <th>min1</th>\n",
       "      <th>max1</th>\n",
       "      <th>mean1</th>\n",
       "      <th>median1</th>\n",
       "      <th>std1</th>\n",
       "      <th>1st quartile1</th>\n",
       "      <th>3rd quartile1</th>\n",
       "      <th>min2</th>\n",
       "      <th>max2</th>\n",
       "      <th>mean2</th>\n",
       "      <th>...</th>\n",
       "      <th>std5</th>\n",
       "      <th>1st quartile5</th>\n",
       "      <th>3rd quartile5</th>\n",
       "      <th>min6</th>\n",
       "      <th>max6</th>\n",
       "      <th>mean6</th>\n",
       "      <th>median6</th>\n",
       "      <th>std6</th>\n",
       "      <th>1st quartile6</th>\n",
       "      <th>3rd quartile6</th>\n",
       "    </tr>\n",
       "  </thead>\n",
       "  <tbody>\n",
       "    <tr>\n",
       "      <th>0</th>\n",
       "      <td>35.00</td>\n",
       "      <td>47.40</td>\n",
       "      <td>43.954500</td>\n",
       "      <td>44.33</td>\n",
       "      <td>1.557210</td>\n",
       "      <td>43.00</td>\n",
       "      <td>45.00</td>\n",
       "      <td>0.0</td>\n",
       "      <td>1.70</td>\n",
       "      <td>0.426250</td>\n",
       "      <td>...</td>\n",
       "      <td>1.997520</td>\n",
       "      <td>35.3625</td>\n",
       "      <td>36.50</td>\n",
       "      <td>0.0</td>\n",
       "      <td>1.79</td>\n",
       "      <td>0.493292</td>\n",
       "      <td>0.43</td>\n",
       "      <td>0.512971</td>\n",
       "      <td>0.00</td>\n",
       "      <td>0.94</td>\n",
       "    </tr>\n",
       "    <tr>\n",
       "      <th>1</th>\n",
       "      <td>33.00</td>\n",
       "      <td>47.75</td>\n",
       "      <td>42.179812</td>\n",
       "      <td>43.50</td>\n",
       "      <td>3.666840</td>\n",
       "      <td>39.15</td>\n",
       "      <td>45.00</td>\n",
       "      <td>0.0</td>\n",
       "      <td>3.00</td>\n",
       "      <td>0.696042</td>\n",
       "      <td>...</td>\n",
       "      <td>3.845436</td>\n",
       "      <td>30.4575</td>\n",
       "      <td>36.33</td>\n",
       "      <td>0.0</td>\n",
       "      <td>2.18</td>\n",
       "      <td>0.613521</td>\n",
       "      <td>0.50</td>\n",
       "      <td>0.523771</td>\n",
       "      <td>0.00</td>\n",
       "      <td>1.00</td>\n",
       "    </tr>\n",
       "    <tr>\n",
       "      <th>2</th>\n",
       "      <td>33.00</td>\n",
       "      <td>45.75</td>\n",
       "      <td>41.678063</td>\n",
       "      <td>41.75</td>\n",
       "      <td>2.241152</td>\n",
       "      <td>41.33</td>\n",
       "      <td>42.75</td>\n",
       "      <td>0.0</td>\n",
       "      <td>2.83</td>\n",
       "      <td>0.535979</td>\n",
       "      <td>...</td>\n",
       "      <td>2.408514</td>\n",
       "      <td>28.4575</td>\n",
       "      <td>31.25</td>\n",
       "      <td>0.0</td>\n",
       "      <td>1.79</td>\n",
       "      <td>0.383292</td>\n",
       "      <td>0.43</td>\n",
       "      <td>0.388759</td>\n",
       "      <td>0.00</td>\n",
       "      <td>0.50</td>\n",
       "    </tr>\n",
       "    <tr>\n",
       "      <th>3</th>\n",
       "      <td>37.00</td>\n",
       "      <td>48.00</td>\n",
       "      <td>43.454958</td>\n",
       "      <td>43.25</td>\n",
       "      <td>1.384653</td>\n",
       "      <td>42.50</td>\n",
       "      <td>45.00</td>\n",
       "      <td>0.0</td>\n",
       "      <td>1.58</td>\n",
       "      <td>0.378083</td>\n",
       "      <td>...</td>\n",
       "      <td>2.486268</td>\n",
       "      <td>22.2500</td>\n",
       "      <td>24.00</td>\n",
       "      <td>0.0</td>\n",
       "      <td>5.26</td>\n",
       "      <td>0.679646</td>\n",
       "      <td>0.50</td>\n",
       "      <td>0.621885</td>\n",
       "      <td>0.43</td>\n",
       "      <td>0.87</td>\n",
       "    </tr>\n",
       "    <tr>\n",
       "      <th>4</th>\n",
       "      <td>36.25</td>\n",
       "      <td>48.00</td>\n",
       "      <td>43.969125</td>\n",
       "      <td>44.50</td>\n",
       "      <td>1.616677</td>\n",
       "      <td>43.31</td>\n",
       "      <td>44.67</td>\n",
       "      <td>0.0</td>\n",
       "      <td>1.50</td>\n",
       "      <td>0.413125</td>\n",
       "      <td>...</td>\n",
       "      <td>3.314843</td>\n",
       "      <td>20.5000</td>\n",
       "      <td>23.75</td>\n",
       "      <td>0.0</td>\n",
       "      <td>2.96</td>\n",
       "      <td>0.555312</td>\n",
       "      <td>0.49</td>\n",
       "      <td>0.487318</td>\n",
       "      <td>0.00</td>\n",
       "      <td>0.83</td>\n",
       "    </tr>\n",
       "  </tbody>\n",
       "</table>\n",
       "<p>5 rows × 42 columns</p>\n",
       "</div>"
      ],
      "text/plain": [
       "    min1   max1      mean1  median1      std1  1st quartile1  3rd quartile1  \\\n",
       "0  35.00  47.40  43.954500    44.33  1.557210          43.00          45.00   \n",
       "1  33.00  47.75  42.179812    43.50  3.666840          39.15          45.00   \n",
       "2  33.00  45.75  41.678063    41.75  2.241152          41.33          42.75   \n",
       "3  37.00  48.00  43.454958    43.25  1.384653          42.50          45.00   \n",
       "4  36.25  48.00  43.969125    44.50  1.616677          43.31          44.67   \n",
       "\n",
       "   min2  max2     mean2      ...            std5  1st quartile5  \\\n",
       "0   0.0  1.70  0.426250      ...        1.997520        35.3625   \n",
       "1   0.0  3.00  0.696042      ...        3.845436        30.4575   \n",
       "2   0.0  2.83  0.535979      ...        2.408514        28.4575   \n",
       "3   0.0  1.58  0.378083      ...        2.486268        22.2500   \n",
       "4   0.0  1.50  0.413125      ...        3.314843        20.5000   \n",
       "\n",
       "   3rd quartile5  min6  max6     mean6  median6      std6  1st quartile6  \\\n",
       "0          36.50   0.0  1.79  0.493292     0.43  0.512971           0.00   \n",
       "1          36.33   0.0  2.18  0.613521     0.50  0.523771           0.00   \n",
       "2          31.25   0.0  1.79  0.383292     0.43  0.388759           0.00   \n",
       "3          24.00   0.0  5.26  0.679646     0.50  0.621885           0.43   \n",
       "4          23.75   0.0  2.96  0.555312     0.49  0.487318           0.00   \n",
       "\n",
       "   3rd quartile6  \n",
       "0           0.94  \n",
       "1           1.00  \n",
       "2           0.50  \n",
       "3           0.87  \n",
       "4           0.83  \n",
       "\n",
       "[5 rows x 42 columns]"
      ]
     },
     "execution_count": 72,
     "metadata": {},
     "output_type": "execute_result"
    }
   ],
   "source": [
    "train_data.head()"
   ]
  },
  {
   "cell_type": "code",
   "execution_count": 73,
   "metadata": {},
   "outputs": [],
   "source": [
    "#give the columns name to the train data frame\n",
    "\n",
    "labels=[1]*9+[2]*12+[3]*12+[4]*12+[5]*12+[6]*12\n",
    "train_data[\"Labels\"]=labels"
   ]
  },
  {
   "cell_type": "code",
   "execution_count": 95,
   "metadata": {},
   "outputs": [],
   "source": [
    "def multi_logistic_grid_search_cv():\n",
    "    res=0\n",
    "    best_k_number=0\n",
    "    best_lambda=0\n",
    "    current_list=[]\n",
    "    \n",
    "    #i is the number of Time Seires, J is the number of Lambda we choose\n",
    "    for i in range(1,21):\n",
    "        k_times_list=get_K_Times_Train_Datasets(i)\n",
    "        matrix=get_DataMatrix(k_times_list)\n",
    "        df=pd.DataFrame(matrix,columns=columns)\n",
    "        df[\"Labels\"]=[1]*(9*i)+[2]*(12*i)+[3]*(12*i)+[4]*(12*i)+[5]*(12*i)+[6]*(12*i)\n",
    "        \n",
    "        X_train=df.drop(\"Labels\",axis=1)\n",
    "        min_max_scaler = preprocessing.MinMaxScaler()\n",
    "        X_train_normalized=min_max_scaler.fit_transform(X_train)\n",
    "        Y_train=df[\"Labels\"]\n",
    "        \n",
    "        cv_score=0\n",
    "        current_best_k=0\n",
    "        current_best_feature_number=0\n",
    "        \n",
    "        \n",
    "        for j in range(1,100):\n",
    "            model=LogisticRegression(penalty=\"l1\",C=1/j)\n",
    "            scores = cross_val_score(model,X_train_normalized ,Y_train, cv=5)\n",
    "            avg_scores=np.mean(scores)\n",
    "            #print(\"When Time Series =\"+str(i)+\", Lasso Regualize Lambda =\"+str(j)+\" CV scores is\"+str(avg_scores))\n",
    "            \n",
    "            if avg_scores>res:\n",
    "                res=avg_scores\n",
    "                best_k_number=i\n",
    "                best_lambda=j\n",
    "                \n",
    "    current_list.append((res,best_k_number,best_lambda))\n",
    "            \n",
    "                \n",
    "                \n",
    "    return current_list\n",
    "\n",
    "multi_logisitc=multi_logistic_grid_search_cv()"
   ]
  },
  {
   "cell_type": "markdown",
   "metadata": {},
   "source": [
    "From the above result, we can find that the best result of Multi class logistic regression result is Time Series=1, and the Lambda=1 , Accuracy result is 96.6%"
   ]
  },
  {
   "cell_type": "markdown",
   "metadata": {},
   "source": [
    "#make the ROC and AUC curve\n",
    "The way to do Mutiple class classification is that we will do it seperately. Each one get AUC and ROC curve\n"
   ]
  },
  {
   "cell_type": "code",
   "execution_count": 75,
   "metadata": {
    "collapsed": true
   },
   "outputs": [],
   "source": [
    "k_times_list=get_K_Times_Train_Datasets(1)\n",
    "matrix=get_DataMatrix(k_times_list)\n",
    "df=pd.DataFrame(matrix,columns=columns)\n",
    "df[\"Labels\"]=[0]*(9*1)+[1]*(12*1)+[2]*(12*1)+[3]*(12*1)+[4]*(12*1)+[5]*(12*1)"
   ]
  },
  {
   "cell_type": "markdown",
   "metadata": {},
   "source": [
    "# Plot Multiple class ROC and AUC curve "
   ]
  },
  {
   "cell_type": "code",
   "execution_count": 76,
   "metadata": {
    "collapsed": true
   },
   "outputs": [],
   "source": [
    "import numpy as np\n",
    "import matplotlib.pyplot as plt\n",
    "from itertools import cycle\n",
    "\n",
    "from sklearn import svm, datasets\n",
    "from sklearn.metrics import roc_curve, auc\n",
    "from sklearn.model_selection import train_test_split\n",
    "from sklearn.preprocessing import label_binarize\n",
    "from sklearn.multiclass import OneVsRestClassifier\n",
    "from scipy import interp\n",
    "\n",
    "# Import some data to play with\n",
    "X = np.array(df.drop(\"Labels\",axis=1))\n",
    "y = list(df[\"Labels\"])\n",
    "\n",
    "# Binarize the output\n",
    "y = label_binarize(y, classes=[0, 1, 2,3,4,5])\n",
    "n_classes = y.shape[1]\n",
    "\n",
    "# Add noisy features to make the problem harder\n",
    "random_state = np.random.RandomState(0)\n",
    "n_samples, n_features = X.shape\n",
    "X = np.c_[X, random_state.randn(n_samples, 200 * n_features)]\n",
    "\n",
    "# shuffle and split training and test sets\n",
    "X_train, X_test, y_train, y_test = train_test_split(X, y, test_size=.4,\n",
    "                                                    random_state=0)\n",
    "\n",
    "# Learn to predict each class against the other\n",
    "classifier = OneVsRestClassifier(svm.SVC(kernel='linear', probability=True,\n",
    "                                 random_state=random_state))\n",
    "y_score = classifier.fit(X_train, y_train).decision_function(X_test)\n",
    "\n",
    "# Compute ROC curve and ROC area for each class\n",
    "fpr = dict()\n",
    "tpr = dict()\n",
    "roc_auc = dict()\n",
    "for i in range(n_classes):\n",
    "    fpr[i], tpr[i], _ = roc_curve(y_test[:, i], y_score[:, i])\n",
    "    roc_auc[i] = auc(fpr[i], tpr[i])\n",
    "\n",
    "# Compute micro-average ROC curve and ROC area\n",
    "fpr[\"micro\"], tpr[\"micro\"], _ = roc_curve(y_test.ravel(), y_score.ravel())\n",
    "roc_auc[\"micro\"] = auc(fpr[\"micro\"], tpr[\"micro\"])"
   ]
  },
  {
   "cell_type": "code",
   "execution_count": 78,
   "metadata": {
    "collapsed": true
   },
   "outputs": [],
   "source": [
    "y_score = classifier.fit(X_train, y_train).decision_function(X_test)\n",
    "\n",
    "\n",
    "# Compute ROC curve and ROC area for each class\n",
    "fpr = dict()\n",
    "tpr = dict()\n",
    "roc_auc = dict()\n",
    "for i in range(n_classes):\n",
    "    fpr[i], tpr[i], _ = roc_curve(y_test[:, i], y_score[:, i])\n",
    "    roc_auc[i] = auc(fpr[i], tpr[i])\n",
    "\n",
    "# Compute micro-average ROC curve and ROC area\n",
    "fpr[\"micro\"], tpr[\"micro\"], _ = roc_curve(y_test.ravel(), y_score.ravel())\n",
    "roc_auc[\"micro\"] = auc(fpr[\"micro\"], tpr[\"micro\"])"
   ]
  },
  {
   "cell_type": "code",
   "execution_count": 82,
   "metadata": {
    "collapsed": true
   },
   "outputs": [],
   "source": [
    "import numpy as np\n",
    "import matplotlib.pyplot as plt\n",
    "from itertools import cycle\n",
    "\n",
    "from sklearn import svm, datasets\n",
    "from sklearn.metrics import roc_curve, auc\n",
    "from sklearn.model_selection import train_test_split\n",
    "from sklearn.preprocessing import label_binarize\n",
    "from sklearn.multiclass import OneVsRestClassifier\n",
    "from scipy import interp\n"
   ]
  },
  {
   "cell_type": "code",
   "execution_count": 87,
   "metadata": {},
   "outputs": [
    {
     "data": {
      "image/png": "[encoded data removed]",
      "text/plain": [
       "<matplotlib.figure.Figure at 0x11957ceb8>"
      ]
     },
     "metadata": {},
     "output_type": "display_data"
    }
   ],
   "source": [
    "all_fpr = np.unique(np.concatenate([fpr[i] for i in range(n_classes)]))\n",
    "\n",
    "# Then interpolate all ROC curves at this points\n",
    "mean_tpr = np.zeros_like(all_fpr)\n",
    "for i in range(n_classes):\n",
    "    mean_tpr += interp(all_fpr, fpr[i], tpr[i])\n",
    "\n",
    "# Finally average it and compute AUC\n",
    "mean_tpr /= n_classes\n",
    "\n",
    "fpr[\"macro\"] = all_fpr\n",
    "tpr[\"macro\"] = mean_tpr\n",
    "roc_auc[\"macro\"] = auc(fpr[\"macro\"], tpr[\"macro\"])\n",
    "\n",
    "# Plot all ROC curves\n",
    "plt.figure()\n",
    "plt.plot(fpr[\"micro\"], tpr[\"micro\"],\n",
    "         label='micro-average ROC curve (area = {0:0.2f})'\n",
    "               ''.format(roc_auc[\"micro\"]),\n",
    "         color='deeppink', linestyle=':', linewidth=4)\n",
    "\n",
    "plt.plot(fpr[\"macro\"], tpr[\"macro\"],\n",
    "         label='macro-average ROC curve (area = {0:0.2f})'\n",
    "               ''.format(roc_auc[\"macro\"]),\n",
    "         color='navy', linestyle=':', linewidth=4)\n",
    "\n",
    "colors = cycle(['aqua', 'darkorange', 'cornflowerblue',\"blue\",\"yellow\",\"green\"])\n",
    "for i, color in zip(range(n_classes), colors):\n",
    "    plt.plot(fpr[i], tpr[i], color=color, #lw=lw,\n",
    "             label='ROC curve of class {0} (area = {1:0.2f})'\n",
    "             ''.format(i, roc_auc[i]))\n",
    "\n",
    "plt.plot([0, 1], [0, 1], 'k--')\n",
    "plt.xlim([0.0, 1.0])\n",
    "plt.ylim([0.0, 1.05])\n",
    "plt.xlabel('False Positive Rate')\n",
    "plt.ylabel('True Positive Rate')\n",
    "plt.title('Some extension of Receiver operating characteristic to multi-class')\n",
    "plt.legend(loc=\"lower right\")\n",
    "plt.show()"
   ]
  },
  {
   "cell_type": "markdown",
   "metadata": {},
   "source": [
    "# Repeat 1(f)i using a Naive Bayes’ classifier. Use both Gaussian and Multi- nomial priors and compare the results."
   ]
  },
  {
   "cell_type": "markdown",
   "metadata": {},
   "source": [
    "# Gaussian Naive Bayes"
   ]
  },
  {
   "cell_type": "code",
   "execution_count": 88,
   "metadata": {
    "collapsed": true
   },
   "outputs": [],
   "source": [
    "from sklearn.naive_bayes import GaussianNB"
   ]
  },
  {
   "cell_type": "code",
   "execution_count": 89,
   "metadata": {},
   "outputs": [
    {
     "name": "stdout",
     "output_type": "stream",
     "text": [
      "When Time Series = 1 CV scores is:1.0\n",
      "When Time Series = 2 CV scores is:1.0\n",
      "When Time Series = 3 CV scores is:1.0\n",
      "When Time Series = 4 CV scores is:0.9923076923076923\n",
      "When Time Series = 5 CV scores is:0.9739130434782609\n",
      "When Time Series = 6 CV scores is:0.9753086419753085\n",
      "When Time Series = 7 CV scores is:0.9773195876288661\n",
      "When Time Series = 8 CV scores is:0.9706422018348624\n",
      "When Time Series = 9 CV scores is:0.9719008264462812\n",
      "When Time Series = 10 CV scores is:0.9710144927536233\n",
      "When Time Series = 11 CV scores is:0.9652796420581655\n",
      "When Time Series = 12 CV scores is:0.969699648820297\n",
      "When Time Series = 13 CV scores is:0.9696754754880421\n",
      "When Time Series = 14 CV scores is:0.9622402159244265\n",
      "When Time Series = 15 CV scores is:0.9623188405797102\n",
      "When Time Series = 16 CV scores is:0.9598408035452461\n",
      "When Time Series = 17 CV scores is:0.9632521676413865\n",
      "When Time Series = 18 CV scores is:0.9603336815985373\n",
      "When Time Series = 19 CV scores is:0.9493005269420364\n",
      "When Time Series = 20 CV scores is:0.9543478260869565\n"
     ]
    }
   ],
   "source": [
    "def multi_Gau_NB_grid_search_cv():\n",
    "    res=0\n",
    "    best_k_number=0\n",
    "    current_list=[]\n",
    "    \n",
    "    #i is the number of Time Seires, J is the number of Lambda we choose\n",
    "    for i in range(1,21):\n",
    "        k_times_list=get_K_Times_Train_Datasets(i)\n",
    "        matrix=get_DataMatrix(k_times_list)\n",
    "        df=pd.DataFrame(matrix,columns=columns)\n",
    "        df[\"Labels\"]=[1]*(9*i)+[2]*(12*i)+[3]*(12*i)+[4]*(12*i)+[5]*(12*i)+[6]*(12*i)\n",
    "        \n",
    "        X_train=df.drop(\"Labels\",axis=1)\n",
    "        min_max_scaler = preprocessing.MinMaxScaler()\n",
    "        X_train_normalized=min_max_scaler.fit_transform(X_train)\n",
    "        Y_train=df[\"Labels\"]\n",
    "        \n",
    "        cv_score=0\n",
    "        current_best_k=0\n",
    "        current_best_feature_number=0\n",
    "        \n",
    "        \n",
    "        \n",
    "        model=GaussianNB()\n",
    "        scores = cross_val_score(model,X_train ,Y_train, cv=5)\n",
    "        avg_scores=np.mean(scores)\n",
    "        print(\"When Time Series = \"+str(i)+\" CV scores is:\"+str(avg_scores))\n",
    "\n",
    "        if avg_scores>res:\n",
    "            res=avg_scores\n",
    "            best_k_number=i\n",
    "                \n",
    "    current_list.append((res,best_k_number))\n",
    "                \n",
    "                \n",
    "    return current_list\n",
    "\n",
    "Gau_NB_res=multi_Gau_NB_grid_search_cv()"
   ]
  },
  {
   "cell_type": "markdown",
   "metadata": {},
   "source": [
    "For the above result, we can find that The Gaussian Naive Bayes result are 100% percent Accuracy"
   ]
  },
  {
   "cell_type": "markdown",
   "metadata": {},
   "source": [
    "# Multinomial Naive Bayes"
   ]
  },
  {
   "cell_type": "code",
   "execution_count": 90,
   "metadata": {
    "collapsed": true
   },
   "outputs": [],
   "source": [
    "from sklearn.naive_bayes import MultinomialNB"
   ]
  },
  {
   "cell_type": "code",
   "execution_count": 96,
   "metadata": {},
   "outputs": [],
   "source": [
    "def multi_Mul_NB_grid_search_cv():\n",
    "    res=0\n",
    "    best_k_number=0\n",
    "    best_lambda=0\n",
    "    current_list=[]\n",
    "    \n",
    "    #i is the number of Time Seires, J is the number of Lambda we choose\n",
    "    for i in range(1,21):\n",
    "        k_times_list=get_K_Times_Train_Datasets(i)\n",
    "        matrix=get_DataMatrix(k_times_list)\n",
    "        df=pd.DataFrame(matrix,columns=columns)\n",
    "        df[\"Labels\"]=[1]*(9*i)+[2]*(12*i)+[3]*(12*i)+[4]*(12*i)+[5]*(12*i)+[6]*(12*i)\n",
    "        \n",
    "        X_train=df.drop(\"Labels\",axis=1)\n",
    "        min_max_scaler = preprocessing.MinMaxScaler()\n",
    "        X_train_normalized=min_max_scaler.fit_transform(X_train)\n",
    "        Y_train=df[\"Labels\"]\n",
    "        \n",
    "        cv_score=0\n",
    "        current_best_k=0\n",
    "        current_best_feature_number=0\n",
    "        \n",
    "        \n",
    "        for j in np.arange(1,10):\n",
    "            model=MultinomialNB(alpha=j)\n",
    "            scores = cross_val_score(model,X_train_normalized ,Y_train, cv=5)\n",
    "            avg_scores=np.mean(scores)\n",
    "            #print(\"When Time Series =\"+str(i)+\", Mutli NB Alpha =\"+str(j)+\" CV scores is\"+str(avg_scores))\n",
    "            \n",
    "            if avg_scores>res:\n",
    "                res=avg_scores\n",
    "                best_k_number=i\n",
    "                best_lambda=j\n",
    "                \n",
    "    current_list.append((res,best_k_number,best_lambda))\n",
    "            \n",
    "                \n",
    "                \n",
    "    return current_list\n",
    "\n",
    "Mul_NB_res=multi_Mul_NB_grid_search_cv()"
   ]
  },
  {
   "cell_type": "code",
   "execution_count": 92,
   "metadata": {},
   "outputs": [
    {
     "name": "stdout",
     "output_type": "stream",
     "text": [
      "[(0.9639120372487856, 7, 2)]\n"
     ]
    }
   ],
   "source": [
    "print(Mul_NB_res)"
   ]
  },
  {
   "cell_type": "markdown",
   "metadata": {},
   "source": [
    "From the above result,we can find that the Mul-NB has the 96.3% accuracy when Time Series=7, alpha=2"
   ]
  },
  {
   "cell_type": "markdown",
   "metadata": {},
   "source": [
    "# iii. Which method is better for multi-class classification in this problem?"
   ]
  },
  {
   "cell_type": "markdown",
   "metadata": {},
   "source": [
    "From this problem, we can find Gaussian Naive Bayes is best in this problem because it has 100% accuracy"
   ]
  }
 ],
 "metadata": {
  "kernelspec": {
   "display_name": "Python 3",
   "language": "python",
   "name": "python3"
  },
  "language_info": {
   "codemirror_mode": {
    "name": "ipython",
    "version": 3
   },
   "file_extension": ".py",
   "mimetype": "text/x-python",
   "name": "python",
   "nbconvert_exporter": "python",
   "pygments_lexer": "ipython3",
   "version": "3.6.2"
  }
 },
 "nbformat": 4,
 "nbformat_minor": 2
}
